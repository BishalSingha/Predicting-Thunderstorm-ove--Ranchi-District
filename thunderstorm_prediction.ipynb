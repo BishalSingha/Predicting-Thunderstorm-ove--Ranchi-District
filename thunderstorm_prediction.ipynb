{
  "nbformat": 4,
  "nbformat_minor": 0,
  "metadata": {
    "colab": {
      "name": "thunderstorm_prediction.ipynb",
      "provenance": [],
      "collapsed_sections": []
    },
    "kernelspec": {
      "name": "python3",
      "display_name": "Python 3"
    },
    "language_info": {
      "name": "python"
    }
  },
  "cells": [
    {
      "cell_type": "code",
      "source": [
        "pip install scikit-optimize"
      ],
      "metadata": {
        "colab": {
          "base_uri": "https://localhost:8080/"
        },
        "id": "nau1jCOxIugw",
        "outputId": "61749838-27e2-4444-88b0-00db6428d767"
      },
      "execution_count": null,
      "outputs": [
        {
          "output_type": "stream",
          "name": "stdout",
          "text": [
            "Looking in indexes: https://pypi.org/simple, https://us-python.pkg.dev/colab-wheels/public/simple/\n",
            "Requirement already satisfied: scikit-optimize in /usr/local/lib/python3.7/dist-packages (0.9.0)\n",
            "Requirement already satisfied: numpy>=1.13.3 in /usr/local/lib/python3.7/dist-packages (from scikit-optimize) (1.21.6)\n",
            "Requirement already satisfied: scipy>=0.19.1 in /usr/local/lib/python3.7/dist-packages (from scikit-optimize) (1.4.1)\n",
            "Requirement already satisfied: scikit-learn>=0.20.0 in /usr/local/lib/python3.7/dist-packages (from scikit-optimize) (1.0.2)\n",
            "Requirement already satisfied: joblib>=0.11 in /usr/local/lib/python3.7/dist-packages (from scikit-optimize) (1.1.0)\n",
            "Requirement already satisfied: pyaml>=16.9 in /usr/local/lib/python3.7/dist-packages (from scikit-optimize) (21.10.1)\n",
            "Requirement already satisfied: PyYAML in /usr/local/lib/python3.7/dist-packages (from pyaml>=16.9->scikit-optimize) (3.13)\n",
            "Requirement already satisfied: threadpoolctl>=2.0.0 in /usr/local/lib/python3.7/dist-packages (from scikit-learn>=0.20.0->scikit-optimize) (3.1.0)\n"
          ]
        }
      ]
    },
    {
      "cell_type": "code",
      "source": [
        "import pandas as pd\n",
        "import numpy as np\n",
        "import matplotlib as plt\n",
        "import warnings\n",
        "%matplotlib inline\n",
        "warnings.filterwarnings('ignore')\n",
        "import sklearn as skl\n",
        "import skopt\n",
        "import statistics"
      ],
      "metadata": {
        "id": "bFgnZOA-hfev"
      },
      "execution_count": null,
      "outputs": []
    },
    {
      "cell_type": "markdown",
      "source": [
        "#**Loading Dataset :**"
      ],
      "metadata": {
        "id": "c42Cq01DtOzS"
      }
    },
    {
      "cell_type": "code",
      "source": [
        "#Loading dataset from google drive\n",
        "# df = pd.read_excel('/content/drive/MyDrive/Data_Set1.xlsx')\n",
        "df = pd.read_excel('Data_Set1.xlsx')\n",
        "\n",
        "#Renaming unnamed column to \"Date\"\n",
        "df.rename( columns={'Unnamed: 0':'Date'}, inplace=True )\n",
        "df.head()"
      ],
      "metadata": {
        "colab": {
          "base_uri": "https://localhost:8080/",
          "height": 206
        },
        "id": "S-YynvKohmHN",
        "outputId": "d0a1ceab-2449-4f75-a707-94a02d32bb64"
      },
      "execution_count": null,
      "outputs": [
        {
          "output_type": "execute_result",
          "data": {
            "text/plain": [
              "        Date  Day     T    TM    Tm     SLP     H   VV     V    VM   TS\n",
              "0 2018-04-08  1.0  24.9  30.6  16.3  1007.3  49.0  4.0   4.3  11.1  0.0\n",
              "1        NaT  2.0  26.3  32.5  18.4  1007.6  41.0  4.0   3.0   7.6  0.0\n",
              "2        NaT  3.0  25.5  33.6  18.6  1007.9  51.0  4.0   7.4  22.2  1.0\n",
              "3        NaT  4.0  22.6  29.2  14.6  1009.7  63.0  4.0  12.0  14.8  1.0\n",
              "4        NaT  5.0  22.2  28.5  16.6  1012.9  58.0  4.0   8.1  14.8  0.0"
            ],
            "text/html": [
              "\n",
              "  <div id=\"df-14c1a344-858b-47d3-a733-41adfc60f6b5\">\n",
              "    <div class=\"colab-df-container\">\n",
              "      <div>\n",
              "<style scoped>\n",
              "    .dataframe tbody tr th:only-of-type {\n",
              "        vertical-align: middle;\n",
              "    }\n",
              "\n",
              "    .dataframe tbody tr th {\n",
              "        vertical-align: top;\n",
              "    }\n",
              "\n",
              "    .dataframe thead th {\n",
              "        text-align: right;\n",
              "    }\n",
              "</style>\n",
              "<table border=\"1\" class=\"dataframe\">\n",
              "  <thead>\n",
              "    <tr style=\"text-align: right;\">\n",
              "      <th></th>\n",
              "      <th>Date</th>\n",
              "      <th>Day</th>\n",
              "      <th>T</th>\n",
              "      <th>TM</th>\n",
              "      <th>Tm</th>\n",
              "      <th>SLP</th>\n",
              "      <th>H</th>\n",
              "      <th>VV</th>\n",
              "      <th>V</th>\n",
              "      <th>VM</th>\n",
              "      <th>TS</th>\n",
              "    </tr>\n",
              "  </thead>\n",
              "  <tbody>\n",
              "    <tr>\n",
              "      <th>0</th>\n",
              "      <td>2018-04-08</td>\n",
              "      <td>1.0</td>\n",
              "      <td>24.9</td>\n",
              "      <td>30.6</td>\n",
              "      <td>16.3</td>\n",
              "      <td>1007.3</td>\n",
              "      <td>49.0</td>\n",
              "      <td>4.0</td>\n",
              "      <td>4.3</td>\n",
              "      <td>11.1</td>\n",
              "      <td>0.0</td>\n",
              "    </tr>\n",
              "    <tr>\n",
              "      <th>1</th>\n",
              "      <td>NaT</td>\n",
              "      <td>2.0</td>\n",
              "      <td>26.3</td>\n",
              "      <td>32.5</td>\n",
              "      <td>18.4</td>\n",
              "      <td>1007.6</td>\n",
              "      <td>41.0</td>\n",
              "      <td>4.0</td>\n",
              "      <td>3.0</td>\n",
              "      <td>7.6</td>\n",
              "      <td>0.0</td>\n",
              "    </tr>\n",
              "    <tr>\n",
              "      <th>2</th>\n",
              "      <td>NaT</td>\n",
              "      <td>3.0</td>\n",
              "      <td>25.5</td>\n",
              "      <td>33.6</td>\n",
              "      <td>18.6</td>\n",
              "      <td>1007.9</td>\n",
              "      <td>51.0</td>\n",
              "      <td>4.0</td>\n",
              "      <td>7.4</td>\n",
              "      <td>22.2</td>\n",
              "      <td>1.0</td>\n",
              "    </tr>\n",
              "    <tr>\n",
              "      <th>3</th>\n",
              "      <td>NaT</td>\n",
              "      <td>4.0</td>\n",
              "      <td>22.6</td>\n",
              "      <td>29.2</td>\n",
              "      <td>14.6</td>\n",
              "      <td>1009.7</td>\n",
              "      <td>63.0</td>\n",
              "      <td>4.0</td>\n",
              "      <td>12.0</td>\n",
              "      <td>14.8</td>\n",
              "      <td>1.0</td>\n",
              "    </tr>\n",
              "    <tr>\n",
              "      <th>4</th>\n",
              "      <td>NaT</td>\n",
              "      <td>5.0</td>\n",
              "      <td>22.2</td>\n",
              "      <td>28.5</td>\n",
              "      <td>16.6</td>\n",
              "      <td>1012.9</td>\n",
              "      <td>58.0</td>\n",
              "      <td>4.0</td>\n",
              "      <td>8.1</td>\n",
              "      <td>14.8</td>\n",
              "      <td>0.0</td>\n",
              "    </tr>\n",
              "  </tbody>\n",
              "</table>\n",
              "</div>\n",
              "      <button class=\"colab-df-convert\" onclick=\"convertToInteractive('df-14c1a344-858b-47d3-a733-41adfc60f6b5')\"\n",
              "              title=\"Convert this dataframe to an interactive table.\"\n",
              "              style=\"display:none;\">\n",
              "        \n",
              "  <svg xmlns=\"http://www.w3.org/2000/svg\" height=\"24px\"viewBox=\"0 0 24 24\"\n",
              "       width=\"24px\">\n",
              "    <path d=\"M0 0h24v24H0V0z\" fill=\"none\"/>\n",
              "    <path d=\"M18.56 5.44l.94 2.06.94-2.06 2.06-.94-2.06-.94-.94-2.06-.94 2.06-2.06.94zm-11 1L8.5 8.5l.94-2.06 2.06-.94-2.06-.94L8.5 2.5l-.94 2.06-2.06.94zm10 10l.94 2.06.94-2.06 2.06-.94-2.06-.94-.94-2.06-.94 2.06-2.06.94z\"/><path d=\"M17.41 7.96l-1.37-1.37c-.4-.4-.92-.59-1.43-.59-.52 0-1.04.2-1.43.59L10.3 9.45l-7.72 7.72c-.78.78-.78 2.05 0 2.83L4 21.41c.39.39.9.59 1.41.59.51 0 1.02-.2 1.41-.59l7.78-7.78 2.81-2.81c.8-.78.8-2.07 0-2.86zM5.41 20L4 18.59l7.72-7.72 1.47 1.35L5.41 20z\"/>\n",
              "  </svg>\n",
              "      </button>\n",
              "      \n",
              "  <style>\n",
              "    .colab-df-container {\n",
              "      display:flex;\n",
              "      flex-wrap:wrap;\n",
              "      gap: 12px;\n",
              "    }\n",
              "\n",
              "    .colab-df-convert {\n",
              "      background-color: #E8F0FE;\n",
              "      border: none;\n",
              "      border-radius: 50%;\n",
              "      cursor: pointer;\n",
              "      display: none;\n",
              "      fill: #1967D2;\n",
              "      height: 32px;\n",
              "      padding: 0 0 0 0;\n",
              "      width: 32px;\n",
              "    }\n",
              "\n",
              "    .colab-df-convert:hover {\n",
              "      background-color: #E2EBFA;\n",
              "      box-shadow: 0px 1px 2px rgba(60, 64, 67, 0.3), 0px 1px 3px 1px rgba(60, 64, 67, 0.15);\n",
              "      fill: #174EA6;\n",
              "    }\n",
              "\n",
              "    [theme=dark] .colab-df-convert {\n",
              "      background-color: #3B4455;\n",
              "      fill: #D2E3FC;\n",
              "    }\n",
              "\n",
              "    [theme=dark] .colab-df-convert:hover {\n",
              "      background-color: #434B5C;\n",
              "      box-shadow: 0px 1px 3px 1px rgba(0, 0, 0, 0.15);\n",
              "      filter: drop-shadow(0px 1px 2px rgba(0, 0, 0, 0.3));\n",
              "      fill: #FFFFFF;\n",
              "    }\n",
              "  </style>\n",
              "\n",
              "      <script>\n",
              "        const buttonEl =\n",
              "          document.querySelector('#df-14c1a344-858b-47d3-a733-41adfc60f6b5 button.colab-df-convert');\n",
              "        buttonEl.style.display =\n",
              "          google.colab.kernel.accessAllowed ? 'block' : 'none';\n",
              "\n",
              "        async function convertToInteractive(key) {\n",
              "          const element = document.querySelector('#df-14c1a344-858b-47d3-a733-41adfc60f6b5');\n",
              "          const dataTable =\n",
              "            await google.colab.kernel.invokeFunction('convertToInteractive',\n",
              "                                                     [key], {});\n",
              "          if (!dataTable) return;\n",
              "\n",
              "          const docLinkHtml = 'Like what you see? Visit the ' +\n",
              "            '<a target=\"_blank\" href=https://colab.research.google.com/notebooks/data_table.ipynb>data table notebook</a>'\n",
              "            + ' to learn more about interactive tables.';\n",
              "          element.innerHTML = '';\n",
              "          dataTable['output_type'] = 'display_data';\n",
              "          await google.colab.output.renderOutput(dataTable, element);\n",
              "          const docLink = document.createElement('div');\n",
              "          docLink.innerHTML = docLinkHtml;\n",
              "          element.appendChild(docLink);\n",
              "        }\n",
              "      </script>\n",
              "    </div>\n",
              "  </div>\n",
              "  "
            ]
          },
          "metadata": {},
          "execution_count": 90
        }
      ]
    },
    {
      "cell_type": "markdown",
      "source": [
        "#**Data Preprocessing :**"
      ],
      "metadata": {
        "id": "YaHwGJ3kP0ln"
      }
    },
    {
      "cell_type": "code",
      "source": [
        "#Taking out the \"month\" data from \"Date\" column and placing it right after it. \n",
        "df[\"month\"] = df['Date'].map(lambda x: x.month)\n",
        "\n",
        "#Rearranging \"month\" column\n",
        "df['month']\n",
        "month=df['month']\n",
        "df = df.drop(columns=['month'])\n",
        "df.insert(loc=1, column = 'month', value = month)\n",
        "df.head()\n"
      ],
      "metadata": {
        "colab": {
          "base_uri": "https://localhost:8080/",
          "height": 206
        },
        "id": "oBoShirT2EeU",
        "outputId": "99f3676d-e98e-4d45-cce9-423d2aea3e2e"
      },
      "execution_count": null,
      "outputs": [
        {
          "output_type": "execute_result",
          "data": {
            "text/plain": [
              "        Date  month  Day     T    TM    Tm     SLP     H   VV     V    VM   TS\n",
              "0 2018-04-08    4.0  1.0  24.9  30.6  16.3  1007.3  49.0  4.0   4.3  11.1  0.0\n",
              "1        NaT    NaN  2.0  26.3  32.5  18.4  1007.6  41.0  4.0   3.0   7.6  0.0\n",
              "2        NaT    NaN  3.0  25.5  33.6  18.6  1007.9  51.0  4.0   7.4  22.2  1.0\n",
              "3        NaT    NaN  4.0  22.6  29.2  14.6  1009.7  63.0  4.0  12.0  14.8  1.0\n",
              "4        NaT    NaN  5.0  22.2  28.5  16.6  1012.9  58.0  4.0   8.1  14.8  0.0"
            ],
            "text/html": [
              "\n",
              "  <div id=\"df-ed46b6f3-ab87-4aa8-9185-e403830bfa05\">\n",
              "    <div class=\"colab-df-container\">\n",
              "      <div>\n",
              "<style scoped>\n",
              "    .dataframe tbody tr th:only-of-type {\n",
              "        vertical-align: middle;\n",
              "    }\n",
              "\n",
              "    .dataframe tbody tr th {\n",
              "        vertical-align: top;\n",
              "    }\n",
              "\n",
              "    .dataframe thead th {\n",
              "        text-align: right;\n",
              "    }\n",
              "</style>\n",
              "<table border=\"1\" class=\"dataframe\">\n",
              "  <thead>\n",
              "    <tr style=\"text-align: right;\">\n",
              "      <th></th>\n",
              "      <th>Date</th>\n",
              "      <th>month</th>\n",
              "      <th>Day</th>\n",
              "      <th>T</th>\n",
              "      <th>TM</th>\n",
              "      <th>Tm</th>\n",
              "      <th>SLP</th>\n",
              "      <th>H</th>\n",
              "      <th>VV</th>\n",
              "      <th>V</th>\n",
              "      <th>VM</th>\n",
              "      <th>TS</th>\n",
              "    </tr>\n",
              "  </thead>\n",
              "  <tbody>\n",
              "    <tr>\n",
              "      <th>0</th>\n",
              "      <td>2018-04-08</td>\n",
              "      <td>4.0</td>\n",
              "      <td>1.0</td>\n",
              "      <td>24.9</td>\n",
              "      <td>30.6</td>\n",
              "      <td>16.3</td>\n",
              "      <td>1007.3</td>\n",
              "      <td>49.0</td>\n",
              "      <td>4.0</td>\n",
              "      <td>4.3</td>\n",
              "      <td>11.1</td>\n",
              "      <td>0.0</td>\n",
              "    </tr>\n",
              "    <tr>\n",
              "      <th>1</th>\n",
              "      <td>NaT</td>\n",
              "      <td>NaN</td>\n",
              "      <td>2.0</td>\n",
              "      <td>26.3</td>\n",
              "      <td>32.5</td>\n",
              "      <td>18.4</td>\n",
              "      <td>1007.6</td>\n",
              "      <td>41.0</td>\n",
              "      <td>4.0</td>\n",
              "      <td>3.0</td>\n",
              "      <td>7.6</td>\n",
              "      <td>0.0</td>\n",
              "    </tr>\n",
              "    <tr>\n",
              "      <th>2</th>\n",
              "      <td>NaT</td>\n",
              "      <td>NaN</td>\n",
              "      <td>3.0</td>\n",
              "      <td>25.5</td>\n",
              "      <td>33.6</td>\n",
              "      <td>18.6</td>\n",
              "      <td>1007.9</td>\n",
              "      <td>51.0</td>\n",
              "      <td>4.0</td>\n",
              "      <td>7.4</td>\n",
              "      <td>22.2</td>\n",
              "      <td>1.0</td>\n",
              "    </tr>\n",
              "    <tr>\n",
              "      <th>3</th>\n",
              "      <td>NaT</td>\n",
              "      <td>NaN</td>\n",
              "      <td>4.0</td>\n",
              "      <td>22.6</td>\n",
              "      <td>29.2</td>\n",
              "      <td>14.6</td>\n",
              "      <td>1009.7</td>\n",
              "      <td>63.0</td>\n",
              "      <td>4.0</td>\n",
              "      <td>12.0</td>\n",
              "      <td>14.8</td>\n",
              "      <td>1.0</td>\n",
              "    </tr>\n",
              "    <tr>\n",
              "      <th>4</th>\n",
              "      <td>NaT</td>\n",
              "      <td>NaN</td>\n",
              "      <td>5.0</td>\n",
              "      <td>22.2</td>\n",
              "      <td>28.5</td>\n",
              "      <td>16.6</td>\n",
              "      <td>1012.9</td>\n",
              "      <td>58.0</td>\n",
              "      <td>4.0</td>\n",
              "      <td>8.1</td>\n",
              "      <td>14.8</td>\n",
              "      <td>0.0</td>\n",
              "    </tr>\n",
              "  </tbody>\n",
              "</table>\n",
              "</div>\n",
              "      <button class=\"colab-df-convert\" onclick=\"convertToInteractive('df-ed46b6f3-ab87-4aa8-9185-e403830bfa05')\"\n",
              "              title=\"Convert this dataframe to an interactive table.\"\n",
              "              style=\"display:none;\">\n",
              "        \n",
              "  <svg xmlns=\"http://www.w3.org/2000/svg\" height=\"24px\"viewBox=\"0 0 24 24\"\n",
              "       width=\"24px\">\n",
              "    <path d=\"M0 0h24v24H0V0z\" fill=\"none\"/>\n",
              "    <path d=\"M18.56 5.44l.94 2.06.94-2.06 2.06-.94-2.06-.94-.94-2.06-.94 2.06-2.06.94zm-11 1L8.5 8.5l.94-2.06 2.06-.94-2.06-.94L8.5 2.5l-.94 2.06-2.06.94zm10 10l.94 2.06.94-2.06 2.06-.94-2.06-.94-.94-2.06-.94 2.06-2.06.94z\"/><path d=\"M17.41 7.96l-1.37-1.37c-.4-.4-.92-.59-1.43-.59-.52 0-1.04.2-1.43.59L10.3 9.45l-7.72 7.72c-.78.78-.78 2.05 0 2.83L4 21.41c.39.39.9.59 1.41.59.51 0 1.02-.2 1.41-.59l7.78-7.78 2.81-2.81c.8-.78.8-2.07 0-2.86zM5.41 20L4 18.59l7.72-7.72 1.47 1.35L5.41 20z\"/>\n",
              "  </svg>\n",
              "      </button>\n",
              "      \n",
              "  <style>\n",
              "    .colab-df-container {\n",
              "      display:flex;\n",
              "      flex-wrap:wrap;\n",
              "      gap: 12px;\n",
              "    }\n",
              "\n",
              "    .colab-df-convert {\n",
              "      background-color: #E8F0FE;\n",
              "      border: none;\n",
              "      border-radius: 50%;\n",
              "      cursor: pointer;\n",
              "      display: none;\n",
              "      fill: #1967D2;\n",
              "      height: 32px;\n",
              "      padding: 0 0 0 0;\n",
              "      width: 32px;\n",
              "    }\n",
              "\n",
              "    .colab-df-convert:hover {\n",
              "      background-color: #E2EBFA;\n",
              "      box-shadow: 0px 1px 2px rgba(60, 64, 67, 0.3), 0px 1px 3px 1px rgba(60, 64, 67, 0.15);\n",
              "      fill: #174EA6;\n",
              "    }\n",
              "\n",
              "    [theme=dark] .colab-df-convert {\n",
              "      background-color: #3B4455;\n",
              "      fill: #D2E3FC;\n",
              "    }\n",
              "\n",
              "    [theme=dark] .colab-df-convert:hover {\n",
              "      background-color: #434B5C;\n",
              "      box-shadow: 0px 1px 3px 1px rgba(0, 0, 0, 0.15);\n",
              "      filter: drop-shadow(0px 1px 2px rgba(0, 0, 0, 0.3));\n",
              "      fill: #FFFFFF;\n",
              "    }\n",
              "  </style>\n",
              "\n",
              "      <script>\n",
              "        const buttonEl =\n",
              "          document.querySelector('#df-ed46b6f3-ab87-4aa8-9185-e403830bfa05 button.colab-df-convert');\n",
              "        buttonEl.style.display =\n",
              "          google.colab.kernel.accessAllowed ? 'block' : 'none';\n",
              "\n",
              "        async function convertToInteractive(key) {\n",
              "          const element = document.querySelector('#df-ed46b6f3-ab87-4aa8-9185-e403830bfa05');\n",
              "          const dataTable =\n",
              "            await google.colab.kernel.invokeFunction('convertToInteractive',\n",
              "                                                     [key], {});\n",
              "          if (!dataTable) return;\n",
              "\n",
              "          const docLinkHtml = 'Like what you see? Visit the ' +\n",
              "            '<a target=\"_blank\" href=https://colab.research.google.com/notebooks/data_table.ipynb>data table notebook</a>'\n",
              "            + ' to learn more about interactive tables.';\n",
              "          element.innerHTML = '';\n",
              "          dataTable['output_type'] = 'display_data';\n",
              "          await google.colab.output.renderOutput(dataTable, element);\n",
              "          const docLink = document.createElement('div');\n",
              "          docLink.innerHTML = docLinkHtml;\n",
              "          element.appendChild(docLink);\n",
              "        }\n",
              "      </script>\n",
              "    </div>\n",
              "  </div>\n",
              "  "
            ]
          },
          "metadata": {},
          "execution_count": 91
        }
      ]
    },
    {
      "cell_type": "code",
      "source": [
        "#Filling up NaN values in \"month\" column\n",
        "\n",
        "import math\n",
        "for i in range(len(df['month'])) :\n",
        "  if math.isnan(df['month'][i]): # The math.isnan(x) method checks whether a value is NaN (Not a Number), or not.\n",
        "    df['month'][i]= df['month'][i-1]\n",
        "\n",
        "print(df) \n",
        "\n",
        "\n",
        "\n",
        "\n",
        "\n",
        "\n"
      ],
      "metadata": {
        "colab": {
          "base_uri": "https://localhost:8080/"
        },
        "id": "HddUpdB_5cqS",
        "outputId": "e92016ee-0f0d-4834-8941-505b5f1ddb45"
      },
      "execution_count": null,
      "outputs": [
        {
          "output_type": "stream",
          "name": "stdout",
          "text": [
            "           Date  month   Day     T    TM    Tm     SLP     H   VV     V    VM  \\\n",
            "0    2018-04-08    4.0   1.0  24.9  30.6  16.3  1007.3  49.0  4.0   4.3  11.1   \n",
            "1           NaT    4.0   2.0  26.3  32.5  18.4  1007.6  41.0  4.0   3.0   7.6   \n",
            "2           NaT    4.0   3.0  25.5  33.6  18.6  1007.9  51.0  4.0   7.4  22.2   \n",
            "3           NaT    4.0   4.0  22.6  29.2  14.6  1009.7  63.0  4.0  12.0  14.8   \n",
            "4           NaT    4.0   5.0  22.2  28.5  16.6  1012.9  58.0  4.0   8.1  14.8   \n",
            "...         ...    ...   ...   ...   ...   ...     ...   ...  ...   ...   ...   \n",
            "1825        NaT    9.0  26.0  27.8  33.0  22.0  1002.6  77.0  3.2   5.0   7.6   \n",
            "1826        NaT    9.0  27.0  25.9  32.6  22.0  1002.6  86.0  2.9   4.1  13.0   \n",
            "1827        NaT    9.0  28.0  26.5  32.0  22.2  1002.6  82.0  2.9   4.4  11.1   \n",
            "1828        NaT    9.0  29.0  24.8  30.4  20.2  1002.6  91.0  2.6   3.5  11.1   \n",
            "1829        NaT    9.0  30.0  26.3  31.2  20.0  1002.6  83.0  3.7   2.8   9.4   \n",
            "\n",
            "       TS  \n",
            "0     0.0  \n",
            "1     0.0  \n",
            "2     1.0  \n",
            "3     1.0  \n",
            "4     0.0  \n",
            "...   ...  \n",
            "1825  1.0  \n",
            "1826  1.0  \n",
            "1827  1.0  \n",
            "1828  1.0  \n",
            "1829  0.0  \n",
            "\n",
            "[1830 rows x 12 columns]\n"
          ]
        }
      ]
    },
    {
      "cell_type": "code",
      "source": [
        "# Defining imput_mode function to fill in missing values based on mode on \"month\"\n",
        "def impute_mode(df,col_name):\n",
        "  c = df.columns.get_loc(col_name)\n",
        "  miss_idx = pd.isnull(df[col_name]).to_numpy().nonzero()[0]\n",
        "  print('Missing index :', miss_idx)\n",
        "  for idx in miss_idx:\n",
        "    arr = []\n",
        "    for i in range(len(df)):\n",
        "      if df['month'][i] == df['month'][idx]:\n",
        "        if not math.isnan(df[col_name][i]):\n",
        "          arr.append(df[col_name][i])\n",
        "    df[col_name][idx] = statistics.mode(arr)\n",
        "  return df, miss_idx"
      ],
      "metadata": {
        "id": "eVIiKZ3kONeQ"
      },
      "execution_count": null,
      "outputs": []
    },
    {
      "cell_type": "code",
      "source": [
        "#Filling in the missing values\n",
        "df, miss_idx = impute_mode(df, 'TS')\n"
      ],
      "metadata": {
        "id": "8VDpAe8TR1DI",
        "colab": {
          "base_uri": "https://localhost:8080/"
        },
        "outputId": "c67796d3-ea4f-4f08-d69f-d73ead23d6dd"
      },
      "execution_count": null,
      "outputs": [
        {
          "output_type": "stream",
          "name": "stdout",
          "text": [
            "Missing index : []\n"
          ]
        }
      ]
    },
    {
      "cell_type": "code",
      "source": [
        "#Checking if the missing value is filled or not\n",
        "df.iloc[miss_idx]"
      ],
      "metadata": {
        "colab": {
          "base_uri": "https://localhost:8080/",
          "height": 81
        },
        "id": "X3g4fb06Xn9a",
        "outputId": "cc769f7d-c270-487a-d6b6-7f22d95271a8"
      },
      "execution_count": null,
      "outputs": [
        {
          "output_type": "execute_result",
          "data": {
            "text/plain": [
              "    Date  month   Day     T    TM    Tm     SLP     H   VV     V    VM   TS\n",
              "324  NaT    8.0  20.0  23.4  26.0  22.4  1006.4  95.0  2.7  11.1  14.8  0.0"
            ],
            "text/html": [
              "\n",
              "  <div id=\"df-cc04211d-983f-408c-a4c5-3ca106f62216\">\n",
              "    <div class=\"colab-df-container\">\n",
              "      <div>\n",
              "<style scoped>\n",
              "    .dataframe tbody tr th:only-of-type {\n",
              "        vertical-align: middle;\n",
              "    }\n",
              "\n",
              "    .dataframe tbody tr th {\n",
              "        vertical-align: top;\n",
              "    }\n",
              "\n",
              "    .dataframe thead th {\n",
              "        text-align: right;\n",
              "    }\n",
              "</style>\n",
              "<table border=\"1\" class=\"dataframe\">\n",
              "  <thead>\n",
              "    <tr style=\"text-align: right;\">\n",
              "      <th></th>\n",
              "      <th>Date</th>\n",
              "      <th>month</th>\n",
              "      <th>Day</th>\n",
              "      <th>T</th>\n",
              "      <th>TM</th>\n",
              "      <th>Tm</th>\n",
              "      <th>SLP</th>\n",
              "      <th>H</th>\n",
              "      <th>VV</th>\n",
              "      <th>V</th>\n",
              "      <th>VM</th>\n",
              "      <th>TS</th>\n",
              "    </tr>\n",
              "  </thead>\n",
              "  <tbody>\n",
              "    <tr>\n",
              "      <th>324</th>\n",
              "      <td>NaT</td>\n",
              "      <td>8.0</td>\n",
              "      <td>20.0</td>\n",
              "      <td>23.4</td>\n",
              "      <td>26.0</td>\n",
              "      <td>22.4</td>\n",
              "      <td>1006.4</td>\n",
              "      <td>95.0</td>\n",
              "      <td>2.7</td>\n",
              "      <td>11.1</td>\n",
              "      <td>14.8</td>\n",
              "      <td>0.0</td>\n",
              "    </tr>\n",
              "  </tbody>\n",
              "</table>\n",
              "</div>\n",
              "      <button class=\"colab-df-convert\" onclick=\"convertToInteractive('df-cc04211d-983f-408c-a4c5-3ca106f62216')\"\n",
              "              title=\"Convert this dataframe to an interactive table.\"\n",
              "              style=\"display:none;\">\n",
              "        \n",
              "  <svg xmlns=\"http://www.w3.org/2000/svg\" height=\"24px\"viewBox=\"0 0 24 24\"\n",
              "       width=\"24px\">\n",
              "    <path d=\"M0 0h24v24H0V0z\" fill=\"none\"/>\n",
              "    <path d=\"M18.56 5.44l.94 2.06.94-2.06 2.06-.94-2.06-.94-.94-2.06-.94 2.06-2.06.94zm-11 1L8.5 8.5l.94-2.06 2.06-.94-2.06-.94L8.5 2.5l-.94 2.06-2.06.94zm10 10l.94 2.06.94-2.06 2.06-.94-2.06-.94-.94-2.06-.94 2.06-2.06.94z\"/><path d=\"M17.41 7.96l-1.37-1.37c-.4-.4-.92-.59-1.43-.59-.52 0-1.04.2-1.43.59L10.3 9.45l-7.72 7.72c-.78.78-.78 2.05 0 2.83L4 21.41c.39.39.9.59 1.41.59.51 0 1.02-.2 1.41-.59l7.78-7.78 2.81-2.81c.8-.78.8-2.07 0-2.86zM5.41 20L4 18.59l7.72-7.72 1.47 1.35L5.41 20z\"/>\n",
              "  </svg>\n",
              "      </button>\n",
              "      \n",
              "  <style>\n",
              "    .colab-df-container {\n",
              "      display:flex;\n",
              "      flex-wrap:wrap;\n",
              "      gap: 12px;\n",
              "    }\n",
              "\n",
              "    .colab-df-convert {\n",
              "      background-color: #E8F0FE;\n",
              "      border: none;\n",
              "      border-radius: 50%;\n",
              "      cursor: pointer;\n",
              "      display: none;\n",
              "      fill: #1967D2;\n",
              "      height: 32px;\n",
              "      padding: 0 0 0 0;\n",
              "      width: 32px;\n",
              "    }\n",
              "\n",
              "    .colab-df-convert:hover {\n",
              "      background-color: #E2EBFA;\n",
              "      box-shadow: 0px 1px 2px rgba(60, 64, 67, 0.3), 0px 1px 3px 1px rgba(60, 64, 67, 0.15);\n",
              "      fill: #174EA6;\n",
              "    }\n",
              "\n",
              "    [theme=dark] .colab-df-convert {\n",
              "      background-color: #3B4455;\n",
              "      fill: #D2E3FC;\n",
              "    }\n",
              "\n",
              "    [theme=dark] .colab-df-convert:hover {\n",
              "      background-color: #434B5C;\n",
              "      box-shadow: 0px 1px 3px 1px rgba(0, 0, 0, 0.15);\n",
              "      filter: drop-shadow(0px 1px 2px rgba(0, 0, 0, 0.3));\n",
              "      fill: #FFFFFF;\n",
              "    }\n",
              "  </style>\n",
              "\n",
              "      <script>\n",
              "        const buttonEl =\n",
              "          document.querySelector('#df-cc04211d-983f-408c-a4c5-3ca106f62216 button.colab-df-convert');\n",
              "        buttonEl.style.display =\n",
              "          google.colab.kernel.accessAllowed ? 'block' : 'none';\n",
              "\n",
              "        async function convertToInteractive(key) {\n",
              "          const element = document.querySelector('#df-cc04211d-983f-408c-a4c5-3ca106f62216');\n",
              "          const dataTable =\n",
              "            await google.colab.kernel.invokeFunction('convertToInteractive',\n",
              "                                                     [key], {});\n",
              "          if (!dataTable) return;\n",
              "\n",
              "          const docLinkHtml = 'Like what you see? Visit the ' +\n",
              "            '<a target=\"_blank\" href=https://colab.research.google.com/notebooks/data_table.ipynb>data table notebook</a>'\n",
              "            + ' to learn more about interactive tables.';\n",
              "          element.innerHTML = '';\n",
              "          dataTable['output_type'] = 'display_data';\n",
              "          await google.colab.output.renderOutput(dataTable, element);\n",
              "          const docLink = document.createElement('div');\n",
              "          docLink.innerHTML = docLinkHtml;\n",
              "          element.appendChild(docLink);\n",
              "        }\n",
              "      </script>\n",
              "    </div>\n",
              "  </div>\n",
              "  "
            ]
          },
          "metadata": {},
          "execution_count": 96
        }
      ]
    },
    {
      "cell_type": "code",
      "source": [
        "#Dropping unnecessary columns and splitting independent and dependent variables\n",
        "print(df.columns)\n",
        "X=df.drop(labels=['Date', 'month', 'Day', 'TS'], axis=1)\n",
        "print(X)\n",
        "y=df['TS']\n",
        "print(y)"
      ],
      "metadata": {
        "colab": {
          "base_uri": "https://localhost:8080/"
        },
        "id": "YJcqArV9kXVp",
        "outputId": "ffe81dd0-bc5b-425c-d856-4cbcd9c695e7"
      },
      "execution_count": null,
      "outputs": [
        {
          "output_type": "stream",
          "name": "stdout",
          "text": [
            "Index(['Date', 'month', 'Day', 'T', 'TM', 'Tm', 'SLP', 'H', 'VV', 'V', 'VM',\n",
            "       'TS'],\n",
            "      dtype='object')\n",
            "         T    TM    Tm     SLP     H   VV     V    VM\n",
            "0     24.9  30.6  16.3  1007.3  49.0  4.0   4.3  11.1\n",
            "1     26.3  32.5  18.4  1007.6  41.0  4.0   3.0   7.6\n",
            "2     25.5  33.6  18.6  1007.9  51.0  4.0   7.4  22.2\n",
            "3     22.6  29.2  14.6  1009.7  63.0  4.0  12.0  14.8\n",
            "4     22.2  28.5  16.6  1012.9  58.0  4.0   8.1  14.8\n",
            "...    ...   ...   ...     ...   ...  ...   ...   ...\n",
            "1825  27.8  33.0  22.0  1002.6  77.0  3.2   5.0   7.6\n",
            "1826  25.9  32.6  22.0  1002.6  86.0  2.9   4.1  13.0\n",
            "1827  26.5  32.0  22.2  1002.6  82.0  2.9   4.4  11.1\n",
            "1828  24.8  30.4  20.2  1002.6  91.0  2.6   3.5  11.1\n",
            "1829  26.3  31.2  20.0  1002.6  83.0  3.7   2.8   9.4\n",
            "\n",
            "[1830 rows x 8 columns]\n",
            "0       0.0\n",
            "1       0.0\n",
            "2       1.0\n",
            "3       1.0\n",
            "4       0.0\n",
            "       ... \n",
            "1825    1.0\n",
            "1826    1.0\n",
            "1827    1.0\n",
            "1828    1.0\n",
            "1829    0.0\n",
            "Name: TS, Length: 1830, dtype: float64\n"
          ]
        }
      ]
    },
    {
      "cell_type": "code",
      "source": [
        "#Separating the dataset into Test and Train set\n",
        "from sklearn.model_selection import train_test_split\n",
        "X_train, X_test, y_train, y_test = train_test_split(X,y, test_size=0.2, random_state=42)\n",
        "X_train.shape, X_test.shape"
      ],
      "metadata": {
        "colab": {
          "base_uri": "https://localhost:8080/"
        },
        "id": "OzSk20ZakurX",
        "outputId": "ad89a023-656a-47cb-d74b-2c1371609b11"
      },
      "execution_count": null,
      "outputs": [
        {
          "output_type": "execute_result",
          "data": {
            "text/plain": [
              "((1464, 8), (366, 8))"
            ]
          },
          "metadata": {},
          "execution_count": 98
        }
      ]
    },
    {
      "cell_type": "code",
      "source": [
        "#Plotting the correlation between the input features\n",
        "import seaborn as sns\n",
        "import matplotlib.pyplot as plt\n",
        "#Using Pearson Correlation\n",
        "plt.figure(figsize=(12,10))\n",
        "cor = X_train.corr()\n",
        "sns.heatmap(cor, annot=True, cmap=plt.cm.CMRmap_r)\n",
        "plt.show()"
      ],
      "metadata": {
        "colab": {
          "base_uri": "https://localhost:8080/",
          "height": 595
        },
        "id": "tj0MnLf0kzMD",
        "outputId": "0d198515-edd4-4682-c755-a3253de5a9d6"
      },
      "execution_count": null,
      "outputs": [
        {
          "output_type": "display_data",
          "data": {
            "text/plain": [
              "<Figure size 864x720 with 2 Axes>"
            ],
            "image/png": "[encoded data removed]"
          },
          "metadata": {
            "needs_background": "light"
          }
        }
      ]
    },
    {
      "cell_type": "code",
      "source": [
        "#removing highly correlated features\n",
        "def correlation(dataset,threshold):\n",
        "  col_corr = set() #set all the names of correlated columns\n",
        "  corr_matrix = dataset.corr()\n",
        "  for i in range(len(corr_matrix.columns)):\n",
        "    for j in range(i):\n",
        "      if (corr_matrix.iloc[i,j])>threshold: #we are interested in absolute correlation value\n",
        "         colname = corr_matrix.columns[i] #getting the name of the column\n",
        "         col_corr.add(colname)\n",
        "  return col_corr\n",
        "\n"
      ],
      "metadata": {
        "id": "XScNp2Klnqdt"
      },
      "execution_count": null,
      "outputs": []
    },
    {
      "cell_type": "code",
      "source": [
        "corr_features = correlation(X_train, 0.90)\n",
        "len(set(corr_features))"
      ],
      "metadata": {
        "colab": {
          "base_uri": "https://localhost:8080/"
        },
        "id": "f26yD0HprnEP",
        "outputId": "12743300-107a-40f8-be54-0955408a3a5d"
      },
      "execution_count": null,
      "outputs": [
        {
          "output_type": "execute_result",
          "data": {
            "text/plain": [
              "1"
            ]
          },
          "metadata": {},
          "execution_count": 13
        }
      ]
    },
    {
      "cell_type": "code",
      "source": [
        "corr_features"
      ],
      "metadata": {
        "id": "miFpYYEMr2JW",
        "colab": {
          "base_uri": "https://localhost:8080/"
        },
        "outputId": "e368627d-14d6-4daa-b579-b1992da3d7af"
      },
      "execution_count": null,
      "outputs": [
        {
          "output_type": "execute_result",
          "data": {
            "text/plain": [
              "{'TM'}"
            ]
          },
          "metadata": {},
          "execution_count": 14
        }
      ]
    },
    {
      "cell_type": "code",
      "source": [
        "#X.drop(corr_features, axis=1)\n",
        "X_test.drop(corr_features, axis=1)\n",
        "X_train.drop(corr_features, axis=1)"
      ],
      "metadata": {
        "id": "AElgJ8mCG3aP",
        "colab": {
          "base_uri": "https://localhost:8080/",
          "height": 424
        },
        "outputId": "ff6f8d22-41b9-4cce-86ee-fdc2f8728fb9"
      },
      "execution_count": null,
      "outputs": [
        {
          "output_type": "execute_result",
          "data": {
            "text/plain": [
              "      month     T    Tm     SLP     H   VV     V    VM\n",
              "529     9.0  26.3  23.8  1004.0  85.0  2.6   9.1  22.2\n",
              "1676    4.0  31.9  20.0  1005.0  36.0  5.1  10.9  29.4\n",
              "1730    6.0  28.8  23.0  1000.4  70.0  3.9   6.1  77.8\n",
              "988     6.0  24.5  22.8   996.7  92.0  2.3  13.9  25.9\n",
              "182     9.0  25.5  18.7  1007.2  78.0  3.1   3.9   9.4\n",
              "...     ...   ...   ...     ...   ...  ...   ...   ...\n",
              "1130    5.0  26.2  21.0  1003.6  54.0  3.2  13.5  27.8\n",
              "1294    4.0  22.5  18.8  1012.7  75.0  3.1   6.7  14.8\n",
              "860     8.0  25.6  22.6  1000.2  87.0  2.7   3.5   7.6\n",
              "1459    9.0  26.7  21.2  1006.2  60.0  3.5   2.2   9.4\n",
              "1126    4.0  31.8  24.4  1004.3  22.0  4.0   6.9  16.5\n",
              "\n",
              "[1464 rows x 8 columns]"
            ],
            "text/html": [
              "\n",
              "  <div id=\"df-5ee4ae4e-9f6f-47e4-84a6-f3a7192bc49f\">\n",
              "    <div class=\"colab-df-container\">\n",
              "      <div>\n",
              "<style scoped>\n",
              "    .dataframe tbody tr th:only-of-type {\n",
              "        vertical-align: middle;\n",
              "    }\n",
              "\n",
              "    .dataframe tbody tr th {\n",
              "        vertical-align: top;\n",
              "    }\n",
              "\n",
              "    .dataframe thead th {\n",
              "        text-align: right;\n",
              "    }\n",
              "</style>\n",
              "<table border=\"1\" class=\"dataframe\">\n",
              "  <thead>\n",
              "    <tr style=\"text-align: right;\">\n",
              "      <th></th>\n",
              "      <th>month</th>\n",
              "      <th>T</th>\n",
              "      <th>Tm</th>\n",
              "      <th>SLP</th>\n",
              "      <th>H</th>\n",
              "      <th>VV</th>\n",
              "      <th>V</th>\n",
              "      <th>VM</th>\n",
              "    </tr>\n",
              "  </thead>\n",
              "  <tbody>\n",
              "    <tr>\n",
              "      <th>529</th>\n",
              "      <td>9.0</td>\n",
              "      <td>26.3</td>\n",
              "      <td>23.8</td>\n",
              "      <td>1004.0</td>\n",
              "      <td>85.0</td>\n",
              "      <td>2.6</td>\n",
              "      <td>9.1</td>\n",
              "      <td>22.2</td>\n",
              "    </tr>\n",
              "    <tr>\n",
              "      <th>1676</th>\n",
              "      <td>4.0</td>\n",
              "      <td>31.9</td>\n",
              "      <td>20.0</td>\n",
              "      <td>1005.0</td>\n",
              "      <td>36.0</td>\n",
              "      <td>5.1</td>\n",
              "      <td>10.9</td>\n",
              "      <td>29.4</td>\n",
              "    </tr>\n",
              "    <tr>\n",
              "      <th>1730</th>\n",
              "      <td>6.0</td>\n",
              "      <td>28.8</td>\n",
              "      <td>23.0</td>\n",
              "      <td>1000.4</td>\n",
              "      <td>70.0</td>\n",
              "      <td>3.9</td>\n",
              "      <td>6.1</td>\n",
              "      <td>77.8</td>\n",
              "    </tr>\n",
              "    <tr>\n",
              "      <th>988</th>\n",
              "      <td>6.0</td>\n",
              "      <td>24.5</td>\n",
              "      <td>22.8</td>\n",
              "      <td>996.7</td>\n",
              "      <td>92.0</td>\n",
              "      <td>2.3</td>\n",
              "      <td>13.9</td>\n",
              "      <td>25.9</td>\n",
              "    </tr>\n",
              "    <tr>\n",
              "      <th>182</th>\n",
              "      <td>9.0</td>\n",
              "      <td>25.5</td>\n",
              "      <td>18.7</td>\n",
              "      <td>1007.2</td>\n",
              "      <td>78.0</td>\n",
              "      <td>3.1</td>\n",
              "      <td>3.9</td>\n",
              "      <td>9.4</td>\n",
              "    </tr>\n",
              "    <tr>\n",
              "      <th>...</th>\n",
              "      <td>...</td>\n",
              "      <td>...</td>\n",
              "      <td>...</td>\n",
              "      <td>...</td>\n",
              "      <td>...</td>\n",
              "      <td>...</td>\n",
              "      <td>...</td>\n",
              "      <td>...</td>\n",
              "    </tr>\n",
              "    <tr>\n",
              "      <th>1130</th>\n",
              "      <td>5.0</td>\n",
              "      <td>26.2</td>\n",
              "      <td>21.0</td>\n",
              "      <td>1003.6</td>\n",
              "      <td>54.0</td>\n",
              "      <td>3.2</td>\n",
              "      <td>13.5</td>\n",
              "      <td>27.8</td>\n",
              "    </tr>\n",
              "    <tr>\n",
              "      <th>1294</th>\n",
              "      <td>4.0</td>\n",
              "      <td>22.5</td>\n",
              "      <td>18.8</td>\n",
              "      <td>1012.7</td>\n",
              "      <td>75.0</td>\n",
              "      <td>3.1</td>\n",
              "      <td>6.7</td>\n",
              "      <td>14.8</td>\n",
              "    </tr>\n",
              "    <tr>\n",
              "      <th>860</th>\n",
              "      <td>8.0</td>\n",
              "      <td>25.6</td>\n",
              "      <td>22.6</td>\n",
              "      <td>1000.2</td>\n",
              "      <td>87.0</td>\n",
              "      <td>2.7</td>\n",
              "      <td>3.5</td>\n",
              "      <td>7.6</td>\n",
              "    </tr>\n",
              "    <tr>\n",
              "      <th>1459</th>\n",
              "      <td>9.0</td>\n",
              "      <td>26.7</td>\n",
              "      <td>21.2</td>\n",
              "      <td>1006.2</td>\n",
              "      <td>60.0</td>\n",
              "      <td>3.5</td>\n",
              "      <td>2.2</td>\n",
              "      <td>9.4</td>\n",
              "    </tr>\n",
              "    <tr>\n",
              "      <th>1126</th>\n",
              "      <td>4.0</td>\n",
              "      <td>31.8</td>\n",
              "      <td>24.4</td>\n",
              "      <td>1004.3</td>\n",
              "      <td>22.0</td>\n",
              "      <td>4.0</td>\n",
              "      <td>6.9</td>\n",
              "      <td>16.5</td>\n",
              "    </tr>\n",
              "  </tbody>\n",
              "</table>\n",
              "<p>1464 rows × 8 columns</p>\n",
              "</div>\n",
              "      <button class=\"colab-df-convert\" onclick=\"convertToInteractive('df-5ee4ae4e-9f6f-47e4-84a6-f3a7192bc49f')\"\n",
              "              title=\"Convert this dataframe to an interactive table.\"\n",
              "              style=\"display:none;\">\n",
              "        \n",
              "  <svg xmlns=\"http://www.w3.org/2000/svg\" height=\"24px\"viewBox=\"0 0 24 24\"\n",
              "       width=\"24px\">\n",
              "    <path d=\"M0 0h24v24H0V0z\" fill=\"none\"/>\n",
              "    <path d=\"M18.56 5.44l.94 2.06.94-2.06 2.06-.94-2.06-.94-.94-2.06-.94 2.06-2.06.94zm-11 1L8.5 8.5l.94-2.06 2.06-.94-2.06-.94L8.5 2.5l-.94 2.06-2.06.94zm10 10l.94 2.06.94-2.06 2.06-.94-2.06-.94-.94-2.06-.94 2.06-2.06.94z\"/><path d=\"M17.41 7.96l-1.37-1.37c-.4-.4-.92-.59-1.43-.59-.52 0-1.04.2-1.43.59L10.3 9.45l-7.72 7.72c-.78.78-.78 2.05 0 2.83L4 21.41c.39.39.9.59 1.41.59.51 0 1.02-.2 1.41-.59l7.78-7.78 2.81-2.81c.8-.78.8-2.07 0-2.86zM5.41 20L4 18.59l7.72-7.72 1.47 1.35L5.41 20z\"/>\n",
              "  </svg>\n",
              "      </button>\n",
              "      \n",
              "  <style>\n",
              "    .colab-df-container {\n",
              "      display:flex;\n",
              "      flex-wrap:wrap;\n",
              "      gap: 12px;\n",
              "    }\n",
              "\n",
              "    .colab-df-convert {\n",
              "      background-color: #E8F0FE;\n",
              "      border: none;\n",
              "      border-radius: 50%;\n",
              "      cursor: pointer;\n",
              "      display: none;\n",
              "      fill: #1967D2;\n",
              "      height: 32px;\n",
              "      padding: 0 0 0 0;\n",
              "      width: 32px;\n",
              "    }\n",
              "\n",
              "    .colab-df-convert:hover {\n",
              "      background-color: #E2EBFA;\n",
              "      box-shadow: 0px 1px 2px rgba(60, 64, 67, 0.3), 0px 1px 3px 1px rgba(60, 64, 67, 0.15);\n",
              "      fill: #174EA6;\n",
              "    }\n",
              "\n",
              "    [theme=dark] .colab-df-convert {\n",
              "      background-color: #3B4455;\n",
              "      fill: #D2E3FC;\n",
              "    }\n",
              "\n",
              "    [theme=dark] .colab-df-convert:hover {\n",
              "      background-color: #434B5C;\n",
              "      box-shadow: 0px 1px 3px 1px rgba(0, 0, 0, 0.15);\n",
              "      filter: drop-shadow(0px 1px 2px rgba(0, 0, 0, 0.3));\n",
              "      fill: #FFFFFF;\n",
              "    }\n",
              "  </style>\n",
              "\n",
              "      <script>\n",
              "        const buttonEl =\n",
              "          document.querySelector('#df-5ee4ae4e-9f6f-47e4-84a6-f3a7192bc49f button.colab-df-convert');\n",
              "        buttonEl.style.display =\n",
              "          google.colab.kernel.accessAllowed ? 'block' : 'none';\n",
              "\n",
              "        async function convertToInteractive(key) {\n",
              "          const element = document.querySelector('#df-5ee4ae4e-9f6f-47e4-84a6-f3a7192bc49f');\n",
              "          const dataTable =\n",
              "            await google.colab.kernel.invokeFunction('convertToInteractive',\n",
              "                                                     [key], {});\n",
              "          if (!dataTable) return;\n",
              "\n",
              "          const docLinkHtml = 'Like what you see? Visit the ' +\n",
              "            '<a target=\"_blank\" href=https://colab.research.google.com/notebooks/data_table.ipynb>data table notebook</a>'\n",
              "            + ' to learn more about interactive tables.';\n",
              "          element.innerHTML = '';\n",
              "          dataTable['output_type'] = 'display_data';\n",
              "          await google.colab.output.renderOutput(dataTable, element);\n",
              "          const docLink = document.createElement('div');\n",
              "          docLink.innerHTML = docLinkHtml;\n",
              "          element.appendChild(docLink);\n",
              "        }\n",
              "      </script>\n",
              "    </div>\n",
              "  </div>\n",
              "  "
            ]
          },
          "metadata": {},
          "execution_count": 46
        }
      ]
    },
    {
      "cell_type": "code",
      "source": [
        "#Storing the dataframe 'X' as 'X1' after dropping highly corelated attribute.\n",
        "X1=X.drop(corr_features, axis=1)\n",
        "print(X1)"
      ],
      "metadata": {
        "colab": {
          "base_uri": "https://localhost:8080/"
        },
        "id": "2Ty_knv05jiL",
        "outputId": "bad2b405-1fb5-4e14-8002-d90d22f451e8"
      },
      "execution_count": null,
      "outputs": [
        {
          "output_type": "stream",
          "name": "stdout",
          "text": [
            "         T    Tm     SLP     H   VV     V    VM\n",
            "0     24.9  16.3  1007.3  49.0  4.0   4.3  11.1\n",
            "1     26.3  18.4  1007.6  41.0  4.0   3.0   7.6\n",
            "2     25.5  18.6  1007.9  51.0  4.0   7.4  22.2\n",
            "3     22.6  14.6  1009.7  63.0  4.0  12.0  14.8\n",
            "4     22.2  16.6  1012.9  58.0  4.0   8.1  14.8\n",
            "...    ...   ...     ...   ...  ...   ...   ...\n",
            "1825  27.8  22.0  1002.6  77.0  3.2   5.0   7.6\n",
            "1826  25.9  22.0  1002.6  86.0  2.9   4.1  13.0\n",
            "1827  26.5  22.2  1002.6  82.0  2.9   4.4  11.1\n",
            "1828  24.8  20.2  1002.6  91.0  2.6   3.5  11.1\n",
            "1829  26.3  20.0  1002.6  83.0  3.7   2.8   9.4\n",
            "\n",
            "[1830 rows x 7 columns]\n"
          ]
        }
      ]
    },
    {
      "cell_type": "code",
      "source": [
        "#Splitting the dataframe X1\n",
        "X1_train, X1_test, y_train, y_test = train_test_split(X1,y, test_size=0.2, random_state=42)\n",
        "X1_train.shape, X1_test.shape"
      ],
      "metadata": {
        "colab": {
          "base_uri": "https://localhost:8080/"
        },
        "id": "7YGdwc9I4ZAi",
        "outputId": "41856df6-1efc-49f8-ce21-8a378e74b500"
      },
      "execution_count": null,
      "outputs": [
        {
          "output_type": "execute_result",
          "data": {
            "text/plain": [
              "((1464, 7), (366, 7))"
            ]
          },
          "metadata": {},
          "execution_count": 16
        }
      ]
    },
    {
      "cell_type": "markdown",
      "source": [
        "#**Normalisation and PCA :**"
      ],
      "metadata": {
        "id": "ojij1424ah_u"
      }
    },
    {
      "cell_type": "code",
      "source": [
        "#Normalisation using MinMaxScaler\n",
        "from sklearn.preprocessing import MinMaxScaler\n",
        "\n",
        "scaler = MinMaxScaler()\n",
        "scaler.fit(X)\n",
        "scaled_data = scaler.transform(X)\n",
        "\n",
        "\n",
        "\n",
        "#implementing PCA\n",
        "from sklearn.decomposition import PCA\n",
        "\n",
        "pca = PCA(n_components = 2)\n",
        "pca.fit(scaled_data)\n",
        "X_pca = pca.transform(scaled_data)\n",
        "scaled_data.shape\n",
        "\n"
      ],
      "metadata": {
        "id": "NvaI0DnMIvZF",
        "colab": {
          "base_uri": "https://localhost:8080/"
        },
        "outputId": "fd235296-6d17-4866-e7be-6877007eb151"
      },
      "execution_count": null,
      "outputs": [
        {
          "output_type": "execute_result",
          "data": {
            "text/plain": [
              "(1830, 8)"
            ]
          },
          "metadata": {},
          "execution_count": 17
        }
      ]
    },
    {
      "cell_type": "code",
      "source": [
        "X_pca.shape"
      ],
      "metadata": {
        "colab": {
          "base_uri": "https://localhost:8080/"
        },
        "id": "nqBSjaTh2clZ",
        "outputId": "bee19515-d3af-4b9e-b5ef-b4ab37c70b19"
      },
      "execution_count": null,
      "outputs": [
        {
          "output_type": "execute_result",
          "data": {
            "text/plain": [
              "(1830, 2)"
            ]
          },
          "metadata": {},
          "execution_count": 18
        }
      ]
    },
    {
      "cell_type": "code",
      "source": [
        "X_train_pca, X_test_pca, y_train, y_test = train_test_split(X_pca, y, test_size=0.2, random_state=42)\n",
        "#df=pd.DataFrame(y_train)\n",
        "#df.isnull().any().any()\n",
        "#X_train_pca.shape"
      ],
      "metadata": {
        "id": "3D_nJiS3JYOx"
      },
      "execution_count": null,
      "outputs": []
    },
    {
      "cell_type": "code",
      "source": [
        "#Plotting PCA attributes\n",
        "import matplotlib.pyplot as plt\n",
        "arr = y.to_numpy()\n",
        "print(arr)\n",
        "\n",
        "plt.figure(figsize=(8,6))\n",
        "plt.scatter(X_pca[:,0],X_pca[:,1], arr)\n",
        "plt.xlabel('First principle component')\n",
        "plt.ylabel('Second principle component')"
      ],
      "metadata": {
        "colab": {
          "base_uri": "https://localhost:8080/",
          "height": 427
        },
        "id": "iOt_xMtk30Ip",
        "outputId": "c73b66e9-66a0-4372-d6da-d8bb5709c06b"
      },
      "execution_count": null,
      "outputs": [
        {
          "output_type": "stream",
          "name": "stdout",
          "text": [
            "[0. 0. 1. ... 1. 1. 0.]\n"
          ]
        },
        {
          "output_type": "execute_result",
          "data": {
            "text/plain": [
              "Text(0, 0.5, 'Second principle component')"
            ]
          },
          "metadata": {},
          "execution_count": 21
        },
        {
          "output_type": "display_data",
          "data": {
            "text/plain": [
              "<Figure size 576x432 with 1 Axes>"
            ],
            "image/png": "[encoded data removed]"
          },
          "metadata": {
            "needs_background": "light"
          }
        }
      ]
    },
    {
      "cell_type": "markdown",
      "source": [
        "#**Implementing Logistic Regression :**"
      ],
      "metadata": {
        "id": "DF264BSWdQ0n"
      }
    },
    {
      "cell_type": "code",
      "source": [
        "#implementing Logistic Regression with PCA\n",
        "from sklearn.linear_model import LogisticRegression\n",
        "model = LogisticRegression()\n",
        "model.fit(X_train_pca, y_train)\n",
        "model.score(X_test_pca, y_test)"
      ],
      "metadata": {
        "colab": {
          "base_uri": "https://localhost:8080/"
        },
        "id": "3-_TIuatKpjo",
        "outputId": "7f4822c7-0bf6-4602-cc2d-52e7ed600b11"
      },
      "execution_count": null,
      "outputs": [
        {
          "output_type": "execute_result",
          "data": {
            "text/plain": [
              "0.6994535519125683"
            ]
          },
          "metadata": {},
          "execution_count": 22
        }
      ]
    },
    {
      "cell_type": "code",
      "source": [
        "#Implementing Logistic Regression on X1 dataframe i.e. after dropping 'TM' because it was highly corelated with 'T'\n",
        "model = LogisticRegression()\n",
        "model.fit(X1_train, y_train)\n",
        "model.score(X1_test, y_test)\n",
        "#model.score(X1_train, y_train)"
      ],
      "metadata": {
        "colab": {
          "base_uri": "https://localhost:8080/"
        },
        "id": "CxbTbnqI6Ik9",
        "outputId": "5b49a417-21d6-4825-8bcc-9bc7d9bcd667"
      },
      "execution_count": null,
      "outputs": [
        {
          "output_type": "execute_result",
          "data": {
            "text/plain": [
              "0.7240437158469946"
            ]
          },
          "metadata": {},
          "execution_count": 23
        }
      ]
    },
    {
      "cell_type": "code",
      "source": [
        "#Logistic Regression without using PCA, on original dataframe\n",
        "model = LogisticRegression()\n",
        "model.fit(X_train, y_train)\n",
        "model.score(X_test, y_test)"
      ],
      "metadata": {
        "colab": {
          "base_uri": "https://localhost:8080/"
        },
        "id": "YvkGDWhsgaOh",
        "outputId": "f3d48b71-da7e-4221-cbbe-a709002195a2"
      },
      "execution_count": null,
      "outputs": [
        {
          "output_type": "execute_result",
          "data": {
            "text/plain": [
              "0.7841530054644809"
            ]
          },
          "metadata": {},
          "execution_count": 24
        }
      ]
    },
    {
      "cell_type": "code",
      "source": [
        "#Implementing Bagging ensemble on Logistic Regression Classifier\n",
        "from sklearn.ensemble import BaggingClassifier\n",
        "bagging_clf = BaggingClassifier(base_estimator = LogisticRegression(), n_estimators = 100, max_features = 8, random_state = 42)\n",
        "bagging_clf.fit(X_train, y_train).score(X_test, y_test)"
      ],
      "metadata": {
        "colab": {
          "base_uri": "https://localhost:8080/"
        },
        "id": "Arn3UPuFD9nv",
        "outputId": "46316084-b28d-4e0d-c01f-2a8d6b6f9918"
      },
      "execution_count": null,
      "outputs": [
        {
          "output_type": "execute_result",
          "data": {
            "text/plain": [
              "0.7841530054644809"
            ]
          },
          "metadata": {},
          "execution_count": 26
        }
      ]
    },
    {
      "cell_type": "markdown",
      "source": [
        "#**Implementing SVM Linear Kernel :**"
      ],
      "metadata": {
        "id": "4rEFFLmNdg8_"
      }
    },
    {
      "cell_type": "code",
      "source": [
        "#implementing SVM linear kernel with PCA\n",
        "from sklearn.svm import SVC\n",
        "classifier = SVC (kernel=\"linear\")\n",
        "classifier.fit(X_train_pca, y_train)"
      ],
      "metadata": {
        "id": "VBI7___bLMl9",
        "colab": {
          "base_uri": "https://localhost:8080/"
        },
        "outputId": "242e60d1-815f-4ab4-b8cf-ef28422ae818"
      },
      "execution_count": null,
      "outputs": [
        {
          "output_type": "execute_result",
          "data": {
            "text/plain": [
              "SVC(kernel='linear')"
            ]
          },
          "metadata": {},
          "execution_count": 27
        }
      ]
    },
    {
      "cell_type": "code",
      "source": [
        "from sklearn.metrics import accuracy_score\n",
        "y_pred = classifier.predict(X_test_pca)\n",
        "accuracy_score(y_test,y_pred)"
      ],
      "metadata": {
        "colab": {
          "base_uri": "https://localhost:8080/"
        },
        "id": "fSbvbRUuT0_Q",
        "outputId": "a71a469a-8aac-40bb-d702-20fa893c7f0a"
      },
      "execution_count": null,
      "outputs": [
        {
          "output_type": "execute_result",
          "data": {
            "text/plain": [
              "0.7103825136612022"
            ]
          },
          "metadata": {},
          "execution_count": 28
        }
      ]
    },
    {
      "cell_type": "code",
      "source": [
        "#Implementing SVM on X1 dataframe i.e. after dropping 'TM' because it was highly corelated with 'T'\n",
        "classifier = SVC (kernel=\"linear\")\n",
        "classifier.fit(X1_train, y_train)\n",
        "y_pred = classifier.predict(X1_test)\n",
        "accuracy_score(y_test,y_pred)"
      ],
      "metadata": {
        "colab": {
          "base_uri": "https://localhost:8080/"
        },
        "id": "GD-FZcLN6pbl",
        "outputId": "ecca1115-0c4a-48f3-a795-d8d43511d5bd"
      },
      "execution_count": null,
      "outputs": [
        {
          "output_type": "execute_result",
          "data": {
            "text/plain": [
              "0.7213114754098361"
            ]
          },
          "metadata": {},
          "execution_count": 29
        }
      ]
    },
    {
      "cell_type": "code",
      "source": [
        "#Implementing SVM  on dataframe 'X', i.e. original dataframe\n",
        "classifier = SVC (kernel=\"linear\")\n",
        "classifier.fit(X_train, y_train)\n",
        "y_pred = classifier.predict(X_test)\n",
        "accuracy_score(y_test,y_pred)"
      ],
      "metadata": {
        "id": "N70LErLnfXMt",
        "colab": {
          "base_uri": "https://localhost:8080/"
        },
        "outputId": "39068585-6d6a-430d-fdf3-49860786a59b"
      },
      "execution_count": null,
      "outputs": [
        {
          "output_type": "execute_result",
          "data": {
            "text/plain": [
              "0.7814207650273224"
            ]
          },
          "metadata": {},
          "execution_count": 30
        }
      ]
    },
    {
      "cell_type": "markdown",
      "source": [
        "#**Implementing Random Forest :**"
      ],
      "metadata": {
        "id": "WoNdZRngd22P"
      }
    },
    {
      "cell_type": "code",
      "source": [
        "#Implementing Random Forest on PCA dataframe\n",
        "from sklearn import ensemble\n",
        "from sklearn import metrics\n",
        "from sklearn import model_selection\n",
        "rf_clf = ensemble.RandomForestClassifier(n_estimators=100)\n",
        "rf_clf.fit(X_train_pca, y_train)\n",
        "rf_clf.score(X_test_pca, y_test)"
      ],
      "metadata": {
        "colab": {
          "base_uri": "https://localhost:8080/"
        },
        "id": "k6W9eBH2PfE9",
        "outputId": "b5a15ea5-c948-4f68-c315-545ab000f459"
      },
      "execution_count": null,
      "outputs": [
        {
          "output_type": "execute_result",
          "data": {
            "text/plain": [
              "0.6256830601092896"
            ]
          },
          "metadata": {},
          "execution_count": 31
        }
      ]
    },
    {
      "cell_type": "code",
      "source": [
        "#Implementing Random Forest on X1 dataframe i.e. after dropping 'TM' because it was highly corelated with 'T'\n",
        "rf_clf = ensemble.RandomForestClassifier(n_estimators=100)\n",
        "rf_clf.fit(X1_train, y_train)\n",
        "rf_clf.score(X1_test, y_test)"
      ],
      "metadata": {
        "colab": {
          "base_uri": "https://localhost:8080/"
        },
        "id": "u0jpp891QxHp",
        "outputId": "af62bdc6-0a29-42fa-c3ee-474bd0cb4ccc"
      },
      "execution_count": null,
      "outputs": [
        {
          "output_type": "execute_result",
          "data": {
            "text/plain": [
              "0.7240437158469946"
            ]
          },
          "metadata": {},
          "execution_count": 32
        }
      ]
    },
    {
      "cell_type": "markdown",
      "source": [
        "#**Best Result from Random Forest :**"
      ],
      "metadata": {
        "id": "DkN_FPpjpRcm"
      }
    },
    {
      "cell_type": "code",
      "source": [
        "#Implementing Random Forest on X dataframe, i.e. original dataframe \n",
        "rf_clf = ensemble.RandomForestClassifier(n_estimators=1000)\n",
        "rf_clf.fit(X_train, y_train)\n",
        "rf_clf.score(X_test, y_test)"
      ],
      "metadata": {
        "colab": {
          "base_uri": "https://localhost:8080/"
        },
        "id": "70FIVakiTPVb",
        "outputId": "4c6b0738-83b5-4342-ca44-0cf3fdb7c84a"
      },
      "execution_count": null,
      "outputs": [
        {
          "output_type": "execute_result",
          "data": {
            "text/plain": [
              "0.7622950819672131"
            ]
          },
          "metadata": {},
          "execution_count": 33
        }
      ]
    },
    {
      "cell_type": "markdown",
      "source": [
        "#**Hyperparameter Tuning on Random Forest :**"
      ],
      "metadata": {
        "id": "LgQaRXplztcb"
      }
    },
    {
      "cell_type": "code",
      "source": [
        "#Hyperparameter tuning using GridSearchCV on X dataframe\n",
        "rf_clf = ensemble.RandomForestClassifier(n_jobs=-1)\n",
        "param_grid = {\n",
        "    \"n_estimators\" : [100,200],\n",
        "    \"max_depth\": [5,7,11],\n",
        "    \"criterion\": [\"gini\", \"entropy\"],    \n",
        "}\n",
        "\n",
        "model = model_selection.GridSearchCV(\n",
        "    estimator=rf_clf,\n",
        "    param_grid=param_grid,\n",
        "    scoring=\"accuracy\",\n",
        "    verbose=10,\n",
        "    n_jobs=1,\n",
        "    cv=5,\n",
        ")\n",
        "\n",
        "model.fit(X,y)\n",
        "print(model.best_score_)\n",
        "print(model.best_estimator_.get_params())"
      ],
      "metadata": {
        "colab": {
          "base_uri": "https://localhost:8080/"
        },
        "id": "CfSo-ISViuER",
        "outputId": "f03f8d0e-da33-4e56-a17d-a2b8073c43d9"
      },
      "execution_count": null,
      "outputs": [
        {
          "output_type": "stream",
          "name": "stdout",
          "text": [
            "Fitting 5 folds for each of 12 candidates, totalling 60 fits\n",
            "[CV 1/5; 1/12] START criterion=gini, max_depth=5, n_estimators=100..............\n",
            "[CV 1/5; 1/12] END criterion=gini, max_depth=5, n_estimators=100;, score=0.735 total time=   1.5s\n",
            "[CV 2/5; 1/12] START criterion=gini, max_depth=5, n_estimators=100..............\n",
            "[CV 2/5; 1/12] END criterion=gini, max_depth=5, n_estimators=100;, score=0.738 total time=   0.4s\n",
            "[CV 3/5; 1/12] START criterion=gini, max_depth=5, n_estimators=100..............\n",
            "[CV 3/5; 1/12] END criterion=gini, max_depth=5, n_estimators=100;, score=0.730 total time=   0.4s\n",
            "[CV 4/5; 1/12] START criterion=gini, max_depth=5, n_estimators=100..............\n",
            "[CV 4/5; 1/12] END criterion=gini, max_depth=5, n_estimators=100;, score=0.699 total time=   0.4s\n",
            "[CV 5/5; 1/12] START criterion=gini, max_depth=5, n_estimators=100..............\n",
            "[CV 5/5; 1/12] END criterion=gini, max_depth=5, n_estimators=100;, score=0.658 total time=   0.4s\n",
            "[CV 1/5; 2/12] START criterion=gini, max_depth=5, n_estimators=200..............\n",
            "[CV 1/5; 2/12] END criterion=gini, max_depth=5, n_estimators=200;, score=0.730 total time=   0.6s\n",
            "[CV 2/5; 2/12] START criterion=gini, max_depth=5, n_estimators=200..............\n",
            "[CV 2/5; 2/12] END criterion=gini, max_depth=5, n_estimators=200;, score=0.749 total time=   0.6s\n",
            "[CV 3/5; 2/12] START criterion=gini, max_depth=5, n_estimators=200..............\n",
            "[CV 3/5; 2/12] END criterion=gini, max_depth=5, n_estimators=200;, score=0.721 total time=   0.6s\n",
            "[CV 4/5; 2/12] START criterion=gini, max_depth=5, n_estimators=200..............\n",
            "[CV 4/5; 2/12] END criterion=gini, max_depth=5, n_estimators=200;, score=0.697 total time=   0.6s\n",
            "[CV 5/5; 2/12] START criterion=gini, max_depth=5, n_estimators=200..............\n",
            "[CV 5/5; 2/12] END criterion=gini, max_depth=5, n_estimators=200;, score=0.650 total time=   0.6s\n",
            "[CV 1/5; 3/12] START criterion=gini, max_depth=7, n_estimators=100..............\n",
            "[CV 1/5; 3/12] END criterion=gini, max_depth=7, n_estimators=100;, score=0.760 total time=   0.4s\n",
            "[CV 2/5; 3/12] START criterion=gini, max_depth=7, n_estimators=100..............\n",
            "[CV 2/5; 3/12] END criterion=gini, max_depth=7, n_estimators=100;, score=0.740 total time=   0.4s\n",
            "[CV 3/5; 3/12] START criterion=gini, max_depth=7, n_estimators=100..............\n",
            "[CV 3/5; 3/12] END criterion=gini, max_depth=7, n_estimators=100;, score=0.721 total time=   0.4s\n",
            "[CV 4/5; 3/12] START criterion=gini, max_depth=7, n_estimators=100..............\n",
            "[CV 4/5; 3/12] END criterion=gini, max_depth=7, n_estimators=100;, score=0.716 total time=   0.4s\n",
            "[CV 5/5; 3/12] START criterion=gini, max_depth=7, n_estimators=100..............\n",
            "[CV 5/5; 3/12] END criterion=gini, max_depth=7, n_estimators=100;, score=0.680 total time=   0.4s\n",
            "[CV 1/5; 4/12] START criterion=gini, max_depth=7, n_estimators=200..............\n",
            "[CV 1/5; 4/12] END criterion=gini, max_depth=7, n_estimators=200;, score=0.757 total time=   0.6s\n",
            "[CV 2/5; 4/12] START criterion=gini, max_depth=7, n_estimators=200..............\n",
            "[CV 2/5; 4/12] END criterion=gini, max_depth=7, n_estimators=200;, score=0.730 total time=   0.6s\n",
            "[CV 3/5; 4/12] START criterion=gini, max_depth=7, n_estimators=200..............\n",
            "[CV 3/5; 4/12] END criterion=gini, max_depth=7, n_estimators=200;, score=0.743 total time=   0.6s\n",
            "[CV 4/5; 4/12] START criterion=gini, max_depth=7, n_estimators=200..............\n",
            "[CV 4/5; 4/12] END criterion=gini, max_depth=7, n_estimators=200;, score=0.719 total time=   0.6s\n",
            "[CV 5/5; 4/12] START criterion=gini, max_depth=7, n_estimators=200..............\n",
            "[CV 5/5; 4/12] END criterion=gini, max_depth=7, n_estimators=200;, score=0.645 total time=   0.6s\n",
            "[CV 1/5; 5/12] START criterion=gini, max_depth=11, n_estimators=100.............\n",
            "[CV 1/5; 5/12] END criterion=gini, max_depth=11, n_estimators=100;, score=0.765 total time=   0.4s\n",
            "[CV 2/5; 5/12] START criterion=gini, max_depth=11, n_estimators=100.............\n",
            "[CV 2/5; 5/12] END criterion=gini, max_depth=11, n_estimators=100;, score=0.724 total time=   0.4s\n",
            "[CV 3/5; 5/12] START criterion=gini, max_depth=11, n_estimators=100.............\n",
            "[CV 3/5; 5/12] END criterion=gini, max_depth=11, n_estimators=100;, score=0.716 total time=   0.4s\n",
            "[CV 4/5; 5/12] START criterion=gini, max_depth=11, n_estimators=100.............\n",
            "[CV 4/5; 5/12] END criterion=gini, max_depth=11, n_estimators=100;, score=0.713 total time=   0.4s\n",
            "[CV 5/5; 5/12] START criterion=gini, max_depth=11, n_estimators=100.............\n",
            "[CV 5/5; 5/12] END criterion=gini, max_depth=11, n_estimators=100;, score=0.617 total time=   0.4s\n",
            "[CV 1/5; 6/12] START criterion=gini, max_depth=11, n_estimators=200.............\n",
            "[CV 1/5; 6/12] END criterion=gini, max_depth=11, n_estimators=200;, score=0.760 total time=   0.7s\n",
            "[CV 2/5; 6/12] START criterion=gini, max_depth=11, n_estimators=200.............\n",
            "[CV 2/5; 6/12] END criterion=gini, max_depth=11, n_estimators=200;, score=0.721 total time=   0.7s\n",
            "[CV 3/5; 6/12] START criterion=gini, max_depth=11, n_estimators=200.............\n",
            "[CV 3/5; 6/12] END criterion=gini, max_depth=11, n_estimators=200;, score=0.743 total time=   0.7s\n",
            "[CV 4/5; 6/12] START criterion=gini, max_depth=11, n_estimators=200.............\n",
            "[CV 4/5; 6/12] END criterion=gini, max_depth=11, n_estimators=200;, score=0.710 total time=   0.7s\n",
            "[CV 5/5; 6/12] START criterion=gini, max_depth=11, n_estimators=200.............\n",
            "[CV 5/5; 6/12] END criterion=gini, max_depth=11, n_estimators=200;, score=0.653 total time=   0.7s\n",
            "[CV 1/5; 7/12] START criterion=entropy, max_depth=5, n_estimators=100...........\n",
            "[CV 1/5; 7/12] END criterion=entropy, max_depth=5, n_estimators=100;, score=0.713 total time=   0.4s\n",
            "[CV 2/5; 7/12] START criterion=entropy, max_depth=5, n_estimators=100...........\n",
            "[CV 2/5; 7/12] END criterion=entropy, max_depth=5, n_estimators=100;, score=0.740 total time=   0.4s\n",
            "[CV 3/5; 7/12] START criterion=entropy, max_depth=5, n_estimators=100...........\n",
            "[CV 3/5; 7/12] END criterion=entropy, max_depth=5, n_estimators=100;, score=0.710 total time=   0.4s\n",
            "[CV 4/5; 7/12] START criterion=entropy, max_depth=5, n_estimators=100...........\n",
            "[CV 4/5; 7/12] END criterion=entropy, max_depth=5, n_estimators=100;, score=0.716 total time=   0.4s\n",
            "[CV 5/5; 7/12] START criterion=entropy, max_depth=5, n_estimators=100...........\n",
            "[CV 5/5; 7/12] END criterion=entropy, max_depth=5, n_estimators=100;, score=0.620 total time=   0.4s\n",
            "[CV 1/5; 8/12] START criterion=entropy, max_depth=5, n_estimators=200...........\n",
            "[CV 1/5; 8/12] END criterion=entropy, max_depth=5, n_estimators=200;, score=0.713 total time=   0.6s\n",
            "[CV 2/5; 8/12] START criterion=entropy, max_depth=5, n_estimators=200...........\n",
            "[CV 2/5; 8/12] END criterion=entropy, max_depth=5, n_estimators=200;, score=0.730 total time=   0.6s\n",
            "[CV 3/5; 8/12] START criterion=entropy, max_depth=5, n_estimators=200...........\n",
            "[CV 3/5; 8/12] END criterion=entropy, max_depth=5, n_estimators=200;, score=0.710 total time=   0.6s\n",
            "[CV 4/5; 8/12] START criterion=entropy, max_depth=5, n_estimators=200...........\n",
            "[CV 4/5; 8/12] END criterion=entropy, max_depth=5, n_estimators=200;, score=0.697 total time=   0.6s\n",
            "[CV 5/5; 8/12] START criterion=entropy, max_depth=5, n_estimators=200...........\n",
            "[CV 5/5; 8/12] END criterion=entropy, max_depth=5, n_estimators=200;, score=0.664 total time=   0.6s\n",
            "[CV 1/5; 9/12] START criterion=entropy, max_depth=7, n_estimators=100...........\n",
            "[CV 1/5; 9/12] END criterion=entropy, max_depth=7, n_estimators=100;, score=0.746 total time=   0.4s\n",
            "[CV 2/5; 9/12] START criterion=entropy, max_depth=7, n_estimators=100...........\n",
            "[CV 2/5; 9/12] END criterion=entropy, max_depth=7, n_estimators=100;, score=0.735 total time=   0.4s\n",
            "[CV 3/5; 9/12] START criterion=entropy, max_depth=7, n_estimators=100...........\n",
            "[CV 3/5; 9/12] END criterion=entropy, max_depth=7, n_estimators=100;, score=0.730 total time=   0.4s\n",
            "[CV 4/5; 9/12] START criterion=entropy, max_depth=7, n_estimators=100...........\n",
            "[CV 4/5; 9/12] END criterion=entropy, max_depth=7, n_estimators=100;, score=0.730 total time=   0.4s\n",
            "[CV 5/5; 9/12] START criterion=entropy, max_depth=7, n_estimators=100...........\n",
            "[CV 5/5; 9/12] END criterion=entropy, max_depth=7, n_estimators=100;, score=0.694 total time=   0.4s\n",
            "[CV 1/5; 10/12] START criterion=entropy, max_depth=7, n_estimators=200..........\n",
            "[CV 1/5; 10/12] END criterion=entropy, max_depth=7, n_estimators=200;, score=0.746 total time=   0.7s\n",
            "[CV 2/5; 10/12] START criterion=entropy, max_depth=7, n_estimators=200..........\n",
            "[CV 2/5; 10/12] END criterion=entropy, max_depth=7, n_estimators=200;, score=0.743 total time=   0.7s\n",
            "[CV 3/5; 10/12] START criterion=entropy, max_depth=7, n_estimators=200..........\n",
            "[CV 3/5; 10/12] END criterion=entropy, max_depth=7, n_estimators=200;, score=0.719 total time=   0.7s\n",
            "[CV 4/5; 10/12] START criterion=entropy, max_depth=7, n_estimators=200..........\n",
            "[CV 4/5; 10/12] END criterion=entropy, max_depth=7, n_estimators=200;, score=0.716 total time=   0.7s\n",
            "[CV 5/5; 10/12] START criterion=entropy, max_depth=7, n_estimators=200..........\n",
            "[CV 5/5; 10/12] END criterion=entropy, max_depth=7, n_estimators=200;, score=0.669 total time=   0.7s\n",
            "[CV 1/5; 11/12] START criterion=entropy, max_depth=11, n_estimators=100.........\n",
            "[CV 1/5; 11/12] END criterion=entropy, max_depth=11, n_estimators=100;, score=0.749 total time=   0.5s\n",
            "[CV 2/5; 11/12] START criterion=entropy, max_depth=11, n_estimators=100.........\n",
            "[CV 2/5; 11/12] END criterion=entropy, max_depth=11, n_estimators=100;, score=0.730 total time=   0.5s\n",
            "[CV 3/5; 11/12] START criterion=entropy, max_depth=11, n_estimators=100.........\n",
            "[CV 3/5; 11/12] END criterion=entropy, max_depth=11, n_estimators=100;, score=0.735 total time=   0.5s\n",
            "[CV 4/5; 11/12] START criterion=entropy, max_depth=11, n_estimators=100.........\n",
            "[CV 4/5; 11/12] END criterion=entropy, max_depth=11, n_estimators=100;, score=0.732 total time=   0.5s\n",
            "[CV 5/5; 11/12] START criterion=entropy, max_depth=11, n_estimators=100.........\n",
            "[CV 5/5; 11/12] END criterion=entropy, max_depth=11, n_estimators=100;, score=0.664 total time=   0.5s\n",
            "[CV 1/5; 12/12] START criterion=entropy, max_depth=11, n_estimators=200.........\n",
            "[CV 1/5; 12/12] END criterion=entropy, max_depth=11, n_estimators=200;, score=0.765 total time=   0.8s\n",
            "[CV 2/5; 12/12] START criterion=entropy, max_depth=11, n_estimators=200.........\n",
            "[CV 2/5; 12/12] END criterion=entropy, max_depth=11, n_estimators=200;, score=0.724 total time=   0.8s\n",
            "[CV 3/5; 12/12] START criterion=entropy, max_depth=11, n_estimators=200.........\n",
            "[CV 3/5; 12/12] END criterion=entropy, max_depth=11, n_estimators=200;, score=0.740 total time=   0.8s\n",
            "[CV 4/5; 12/12] START criterion=entropy, max_depth=11, n_estimators=200.........\n",
            "[CV 4/5; 12/12] END criterion=entropy, max_depth=11, n_estimators=200;, score=0.719 total time=   0.8s\n",
            "[CV 5/5; 12/12] START criterion=entropy, max_depth=11, n_estimators=200.........\n",
            "[CV 5/5; 12/12] END criterion=entropy, max_depth=11, n_estimators=200;, score=0.672 total time=   0.8s\n",
            "0.726775956284153\n",
            "{'bootstrap': True, 'ccp_alpha': 0.0, 'class_weight': None, 'criterion': 'entropy', 'max_depth': 7, 'max_features': 'auto', 'max_leaf_nodes': None, 'max_samples': None, 'min_impurity_decrease': 0.0, 'min_samples_leaf': 1, 'min_samples_split': 2, 'min_weight_fraction_leaf': 0.0, 'n_estimators': 100, 'n_jobs': -1, 'oob_score': False, 'random_state': None, 'verbose': 0, 'warm_start': False}\n"
          ]
        }
      ]
    },
    {
      "cell_type": "code",
      "source": [
        "#Performing Hyperparameter Tuning by RandomizedSearch\n",
        "param_grid = {\n",
        "    \"n_estimators\" : np.arange(100, 1500, 100),\n",
        "    \"max_depth\": np.arange(1,20),\n",
        "    \"criterion\": [\"gini\", \"entropy\"],    \n",
        "}\n",
        "\n",
        "model = model_selection.RandomizedSearchCV(\n",
        "    estimator=rf_clf,\n",
        "    param_distributions=param_grid,\n",
        "    n_iter=10,\n",
        "    scoring=\"accuracy\",\n",
        "    verbose=10,\n",
        "    n_jobs=1,\n",
        "    cv=5,\n",
        ")\n",
        "\n",
        "model.fit(X,y)\n",
        "print(model.best_score_)\n",
        "print(model.best_estimator_.get_params())"
      ],
      "metadata": {
        "colab": {
          "base_uri": "https://localhost:8080/"
        },
        "id": "p95TlspBm_UR",
        "outputId": "046a3784-e7a4-4440-dd5f-a73aacd86c7e"
      },
      "execution_count": null,
      "outputs": [
        {
          "output_type": "stream",
          "name": "stdout",
          "text": [
            "Fitting 5 folds for each of 10 candidates, totalling 50 fits\n",
            "[CV 1/5; 1/10] START criterion=entropy, max_depth=4, n_estimators=600...........\n",
            "[CV 1/5; 1/10] END criterion=entropy, max_depth=4, n_estimators=600;, score=0.699 total time=   1.7s\n",
            "[CV 2/5; 1/10] START criterion=entropy, max_depth=4, n_estimators=600...........\n",
            "[CV 2/5; 1/10] END criterion=entropy, max_depth=4, n_estimators=600;, score=0.708 total time=   1.7s\n",
            "[CV 3/5; 1/10] START criterion=entropy, max_depth=4, n_estimators=600...........\n",
            "[CV 3/5; 1/10] END criterion=entropy, max_depth=4, n_estimators=600;, score=0.708 total time=   1.7s\n",
            "[CV 4/5; 1/10] START criterion=entropy, max_depth=4, n_estimators=600...........\n",
            "[CV 4/5; 1/10] END criterion=entropy, max_depth=4, n_estimators=600;, score=0.697 total time=   1.7s\n",
            "[CV 5/5; 1/10] START criterion=entropy, max_depth=4, n_estimators=600...........\n",
            "[CV 5/5; 1/10] END criterion=entropy, max_depth=4, n_estimators=600;, score=0.672 total time=   1.6s\n",
            "[CV 1/5; 2/10] START criterion=gini, max_depth=15, n_estimators=1400............\n",
            "[CV 1/5; 2/10] END criterion=gini, max_depth=15, n_estimators=1400;, score=0.768 total time=   4.4s\n",
            "[CV 2/5; 2/10] START criterion=gini, max_depth=15, n_estimators=1400............\n",
            "[CV 2/5; 2/10] END criterion=gini, max_depth=15, n_estimators=1400;, score=0.724 total time=   4.4s\n",
            "[CV 3/5; 2/10] START criterion=gini, max_depth=15, n_estimators=1400............\n",
            "[CV 3/5; 2/10] END criterion=gini, max_depth=15, n_estimators=1400;, score=0.732 total time=   4.4s\n",
            "[CV 4/5; 2/10] START criterion=gini, max_depth=15, n_estimators=1400............\n",
            "[CV 4/5; 2/10] END criterion=gini, max_depth=15, n_estimators=1400;, score=0.724 total time=   4.4s\n",
            "[CV 5/5; 2/10] START criterion=gini, max_depth=15, n_estimators=1400............\n",
            "[CV 5/5; 2/10] END criterion=gini, max_depth=15, n_estimators=1400;, score=0.658 total time=   4.4s\n",
            "[CV 1/5; 3/10] START criterion=entropy, max_depth=14, n_estimators=100..........\n",
            "[CV 1/5; 3/10] END criterion=entropy, max_depth=14, n_estimators=100;, score=0.760 total time=   0.5s\n",
            "[CV 2/5; 3/10] START criterion=entropy, max_depth=14, n_estimators=100..........\n",
            "[CV 2/5; 3/10] END criterion=entropy, max_depth=14, n_estimators=100;, score=0.697 total time=   0.5s\n",
            "[CV 3/5; 3/10] START criterion=entropy, max_depth=14, n_estimators=100..........\n",
            "[CV 3/5; 3/10] END criterion=entropy, max_depth=14, n_estimators=100;, score=0.730 total time=   0.5s\n",
            "[CV 4/5; 3/10] START criterion=entropy, max_depth=14, n_estimators=100..........\n",
            "[CV 4/5; 3/10] END criterion=entropy, max_depth=14, n_estimators=100;, score=0.724 total time=   0.5s\n",
            "[CV 5/5; 3/10] START criterion=entropy, max_depth=14, n_estimators=100..........\n",
            "[CV 5/5; 3/10] END criterion=entropy, max_depth=14, n_estimators=100;, score=0.691 total time=   0.5s\n",
            "[CV 1/5; 4/10] START criterion=gini, max_depth=14, n_estimators=100.............\n",
            "[CV 1/5; 4/10] END criterion=gini, max_depth=14, n_estimators=100;, score=0.757 total time=   0.4s\n",
            "[CV 2/5; 4/10] START criterion=gini, max_depth=14, n_estimators=100.............\n",
            "[CV 2/5; 4/10] END criterion=gini, max_depth=14, n_estimators=100;, score=0.708 total time=   0.4s\n",
            "[CV 3/5; 4/10] START criterion=gini, max_depth=14, n_estimators=100.............\n",
            "[CV 3/5; 4/10] END criterion=gini, max_depth=14, n_estimators=100;, score=0.730 total time=   0.5s\n",
            "[CV 4/5; 4/10] START criterion=gini, max_depth=14, n_estimators=100.............\n",
            "[CV 4/5; 4/10] END criterion=gini, max_depth=14, n_estimators=100;, score=0.719 total time=   0.4s\n",
            "[CV 5/5; 4/10] START criterion=gini, max_depth=14, n_estimators=100.............\n",
            "[CV 5/5; 4/10] END criterion=gini, max_depth=14, n_estimators=100;, score=0.658 total time=   0.5s\n",
            "[CV 1/5; 5/10] START criterion=gini, max_depth=18, n_estimators=200.............\n",
            "[CV 1/5; 5/10] END criterion=gini, max_depth=18, n_estimators=200;, score=0.754 total time=   0.7s\n",
            "[CV 2/5; 5/10] START criterion=gini, max_depth=18, n_estimators=200.............\n",
            "[CV 2/5; 5/10] END criterion=gini, max_depth=18, n_estimators=200;, score=0.732 total time=   0.7s\n",
            "[CV 3/5; 5/10] START criterion=gini, max_depth=18, n_estimators=200.............\n",
            "[CV 3/5; 5/10] END criterion=gini, max_depth=18, n_estimators=200;, score=0.730 total time=   0.7s\n",
            "[CV 4/5; 5/10] START criterion=gini, max_depth=18, n_estimators=200.............\n",
            "[CV 4/5; 5/10] END criterion=gini, max_depth=18, n_estimators=200;, score=0.724 total time=   0.7s\n",
            "[CV 5/5; 5/10] START criterion=gini, max_depth=18, n_estimators=200.............\n",
            "[CV 5/5; 5/10] END criterion=gini, max_depth=18, n_estimators=200;, score=0.680 total time=   0.7s\n",
            "[CV 1/5; 6/10] START criterion=gini, max_depth=18, n_estimators=700.............\n",
            "[CV 1/5; 6/10] END criterion=gini, max_depth=18, n_estimators=700;, score=0.765 total time=   2.3s\n",
            "[CV 2/5; 6/10] START criterion=gini, max_depth=18, n_estimators=700.............\n",
            "[CV 2/5; 6/10] END criterion=gini, max_depth=18, n_estimators=700;, score=0.724 total time=   2.3s\n",
            "[CV 3/5; 6/10] START criterion=gini, max_depth=18, n_estimators=700.............\n",
            "[CV 3/5; 6/10] END criterion=gini, max_depth=18, n_estimators=700;, score=0.724 total time=   2.4s\n",
            "[CV 4/5; 6/10] START criterion=gini, max_depth=18, n_estimators=700.............\n",
            "[CV 4/5; 6/10] END criterion=gini, max_depth=18, n_estimators=700;, score=0.719 total time=   2.3s\n",
            "[CV 5/5; 6/10] START criterion=gini, max_depth=18, n_estimators=700.............\n",
            "[CV 5/5; 6/10] END criterion=gini, max_depth=18, n_estimators=700;, score=0.658 total time=   2.3s\n",
            "[CV 1/5; 7/10] START criterion=entropy, max_depth=7, n_estimators=1100..........\n",
            "[CV 1/5; 7/10] END criterion=entropy, max_depth=7, n_estimators=1100;, score=0.749 total time=   3.2s\n",
            "[CV 2/5; 7/10] START criterion=entropy, max_depth=7, n_estimators=1100..........\n",
            "[CV 2/5; 7/10] END criterion=entropy, max_depth=7, n_estimators=1100;, score=0.746 total time=   3.9s\n",
            "[CV 3/5; 7/10] START criterion=entropy, max_depth=7, n_estimators=1100..........\n",
            "[CV 3/5; 7/10] END criterion=entropy, max_depth=7, n_estimators=1100;, score=0.730 total time=   3.2s\n",
            "[CV 4/5; 7/10] START criterion=entropy, max_depth=7, n_estimators=1100..........\n",
            "[CV 4/5; 7/10] END criterion=entropy, max_depth=7, n_estimators=1100;, score=0.721 total time=   3.2s\n",
            "[CV 5/5; 7/10] START criterion=entropy, max_depth=7, n_estimators=1100..........\n",
            "[CV 5/5; 7/10] END criterion=entropy, max_depth=7, n_estimators=1100;, score=0.683 total time=   3.2s\n",
            "[CV 1/5; 8/10] START criterion=gini, max_depth=13, n_estimators=500.............\n",
            "[CV 1/5; 8/10] END criterion=gini, max_depth=13, n_estimators=500;, score=0.757 total time=   1.6s\n",
            "[CV 2/5; 8/10] START criterion=gini, max_depth=13, n_estimators=500.............\n",
            "[CV 2/5; 8/10] END criterion=gini, max_depth=13, n_estimators=500;, score=0.730 total time=   1.7s\n",
            "[CV 3/5; 8/10] START criterion=gini, max_depth=13, n_estimators=500.............\n",
            "[CV 3/5; 8/10] END criterion=gini, max_depth=13, n_estimators=500;, score=0.743 total time=   1.6s\n",
            "[CV 4/5; 8/10] START criterion=gini, max_depth=13, n_estimators=500.............\n",
            "[CV 4/5; 8/10] END criterion=gini, max_depth=13, n_estimators=500;, score=0.705 total time=   1.6s\n",
            "[CV 5/5; 8/10] START criterion=gini, max_depth=13, n_estimators=500.............\n",
            "[CV 5/5; 8/10] END criterion=gini, max_depth=13, n_estimators=500;, score=0.658 total time=   1.7s\n",
            "[CV 1/5; 9/10] START criterion=entropy, max_depth=8, n_estimators=200...........\n",
            "[CV 1/5; 9/10] END criterion=entropy, max_depth=8, n_estimators=200;, score=0.760 total time=   0.7s\n",
            "[CV 2/5; 9/10] START criterion=entropy, max_depth=8, n_estimators=200...........\n",
            "[CV 2/5; 9/10] END criterion=entropy, max_depth=8, n_estimators=200;, score=0.724 total time=   0.7s\n",
            "[CV 3/5; 9/10] START criterion=entropy, max_depth=8, n_estimators=200...........\n",
            "[CV 3/5; 9/10] END criterion=entropy, max_depth=8, n_estimators=200;, score=0.738 total time=   0.7s\n",
            "[CV 4/5; 9/10] START criterion=entropy, max_depth=8, n_estimators=200...........\n",
            "[CV 4/5; 9/10] END criterion=entropy, max_depth=8, n_estimators=200;, score=0.713 total time=   0.7s\n",
            "[CV 5/5; 9/10] START criterion=entropy, max_depth=8, n_estimators=200...........\n",
            "[CV 5/5; 9/10] END criterion=entropy, max_depth=8, n_estimators=200;, score=0.634 total time=   0.7s\n",
            "[CV 1/5; 10/10] START criterion=entropy, max_depth=4, n_estimators=700..........\n",
            "[CV 1/5; 10/10] END criterion=entropy, max_depth=4, n_estimators=700;, score=0.702 total time=   1.9s\n",
            "[CV 2/5; 10/10] START criterion=entropy, max_depth=4, n_estimators=700..........\n",
            "[CV 2/5; 10/10] END criterion=entropy, max_depth=4, n_estimators=700;, score=0.710 total time=   1.9s\n",
            "[CV 3/5; 10/10] START criterion=entropy, max_depth=4, n_estimators=700..........\n",
            "[CV 3/5; 10/10] END criterion=entropy, max_depth=4, n_estimators=700;, score=0.708 total time=   1.9s\n",
            "[CV 4/5; 10/10] START criterion=entropy, max_depth=4, n_estimators=700..........\n",
            "[CV 4/5; 10/10] END criterion=entropy, max_depth=4, n_estimators=700;, score=0.691 total time=   1.9s\n",
            "[CV 5/5; 10/10] START criterion=entropy, max_depth=4, n_estimators=700..........\n",
            "[CV 5/5; 10/10] END criterion=entropy, max_depth=4, n_estimators=700;, score=0.683 total time=   1.9s\n",
            "0.7256830601092897\n",
            "{'bootstrap': True, 'ccp_alpha': 0.0, 'class_weight': None, 'criterion': 'entropy', 'max_depth': 7, 'max_features': 'auto', 'max_leaf_nodes': None, 'max_samples': None, 'min_impurity_decrease': 0.0, 'min_samples_leaf': 1, 'min_samples_split': 2, 'min_weight_fraction_leaf': 0.0, 'n_estimators': 1100, 'n_jobs': -1, 'oob_score': False, 'random_state': None, 'verbose': 0, 'warm_start': False}\n"
          ]
        }
      ]
    },
    {
      "cell_type": "code",
      "source": [
        ""
      ],
      "metadata": {
        "id": "lUeLKuu1HiEG"
      },
      "execution_count": null,
      "outputs": []
    },
    {
      "cell_type": "code",
      "source": [
        "#Hyperparameter Tuning using Bayesian Optimizaion with Gaussian process\n",
        "from functools import partial\n",
        "from skopt import space\n",
        "from skopt import gp_minimize\n",
        "from sklearn import ensemble\n",
        "from sklearn import model_selection\n",
        "\n",
        "def optimize(params, param_names, x,y):\n",
        "  params = dict(zip(param_names, params))\n",
        "  model = ensemble.RandomForestClassifier(**params)\n",
        "  kf = model_selection.StratifiedKFold(n_splits=5)\n",
        "  accuracies = []\n",
        "  for idx in kf.split(X=x,y=y):\n",
        "    train_idx, test_idx = idx[0], idx[1]\n",
        "    xtrain = x.iloc[train_idx]\n",
        "    ytrain = y[train_idx]\n",
        "    xtest = x.iloc[test_idx]\n",
        "    ytest = y[test_idx]\n",
        "   \n",
        "    model.fit(xtrain, ytrain)\n",
        "    preds = model.predict(xtest)\n",
        "    fold_acc = metrics.accuracy_score(ytest, preds)\n",
        "    accuracies.append(fold_acc)\n",
        "  \n",
        "  return -1.0 * np.mean(accuracies)\n",
        "\n",
        "\n",
        "# df = pd.read_excel('/content/drive/MyDrive/Data_Set1.xlsx')\n",
        "df = pd.read_excel('Data_Set1.xlsx')\n",
        "X=df.drop(labels=['Unnamed: 0', 'Day', 'TS'], axis=1)\n",
        "#print(X)\n",
        "y=df['TS'] \n",
        "\n",
        "param_space = [\n",
        "                space.Integer(3, 15, name=\"max_depth\"),\n",
        "                space.Integer(100,600, name=\"n_estimators\"),\n",
        "                space.Categorical([\"gini\", \"entropy\"], name=\"criterion\"),\n",
        "                space.Real(0.01, 1, prior=\"uniform\", name=\"max_features\")\n",
        "]\n",
        "param_names = [\n",
        "              \"max_depth\",\n",
        "              \"n_estimators\",\n",
        "              \"criterion\",\n",
        "              \"max_features\"\n",
        "]\n",
        "\n",
        "optimization_function = partial(\n",
        "    optimize,\n",
        "    param_names=param_names,\n",
        "    x=X,\n",
        "    y=y\n",
        ")\n",
        "\n",
        "result = gp_minimize(\n",
        "    optimization_function,\n",
        "    dimensions=param_space,\n",
        "    n_calls=15,\n",
        "    n_random_starts=10,\n",
        "    verbose=10,\n",
        ")\n",
        "\n",
        "print(dict(zip(param_names, result.x)))"
      ],
      "metadata": {
        "colab": {
          "base_uri": "https://localhost:8080/"
        },
        "id": "97wVPz9nBgxY",
        "outputId": "8928c60b-79c9-4883-c618-30d725e0ab71"
      },
      "execution_count": null,
      "outputs": [
        {
          "output_type": "stream",
          "name": "stdout",
          "text": [
            "Iteration No: 1 started. Evaluating function at random point.\n",
            "Iteration No: 1 ended. Evaluation done at random point.\n",
            "Time taken: 9.0975\n",
            "Function value obtained: -0.7033\n",
            "Current minimum: -0.7033\n",
            "Iteration No: 2 started. Evaluating function at random point.\n",
            "Iteration No: 2 ended. Evaluation done at random point.\n",
            "Time taken: 8.1620\n",
            "Function value obtained: -0.7186\n",
            "Current minimum: -0.7186\n",
            "Iteration No: 3 started. Evaluating function at random point.\n",
            "Iteration No: 3 ended. Evaluation done at random point.\n",
            "Time taken: 4.5427\n",
            "Function value obtained: -0.7066\n",
            "Current minimum: -0.7186\n",
            "Iteration No: 4 started. Evaluating function at random point.\n",
            "Iteration No: 4 ended. Evaluation done at random point.\n",
            "Time taken: 10.4201\n",
            "Function value obtained: -0.7175\n",
            "Current minimum: -0.7186\n",
            "Iteration No: 5 started. Evaluating function at random point.\n",
            "Iteration No: 5 ended. Evaluation done at random point.\n",
            "Time taken: 8.6117\n",
            "Function value obtained: -0.7115\n",
            "Current minimum: -0.7186\n",
            "Iteration No: 6 started. Evaluating function at random point.\n",
            "Iteration No: 6 ended. Evaluation done at random point.\n",
            "Time taken: 19.4256\n",
            "Function value obtained: -0.7098\n",
            "Current minimum: -0.7186\n",
            "Iteration No: 7 started. Evaluating function at random point.\n",
            "Iteration No: 7 ended. Evaluation done at random point.\n",
            "Time taken: 3.0548\n",
            "Function value obtained: -0.7005\n",
            "Current minimum: -0.7186\n",
            "Iteration No: 8 started. Evaluating function at random point.\n",
            "Iteration No: 8 ended. Evaluation done at random point.\n",
            "Time taken: 6.9739\n",
            "Function value obtained: -0.7164\n",
            "Current minimum: -0.7186\n",
            "Iteration No: 9 started. Evaluating function at random point.\n",
            "Iteration No: 9 ended. Evaluation done at random point.\n",
            "Time taken: 10.4500\n",
            "Function value obtained: -0.7066\n",
            "Current minimum: -0.7186\n",
            "Iteration No: 10 started. Evaluating function at random point.\n",
            "Iteration No: 10 ended. Evaluation done at random point.\n",
            "Time taken: 1.7490\n",
            "Function value obtained: -0.7246\n",
            "Current minimum: -0.7246\n",
            "Iteration No: 11 started. Searching for the next optimal point.\n",
            "Iteration No: 11 ended. Search finished for the next optimal point.\n",
            "Time taken: 5.6964\n",
            "Function value obtained: -0.7011\n",
            "Current minimum: -0.7246\n",
            "Iteration No: 12 started. Searching for the next optimal point.\n",
            "Iteration No: 12 ended. Search finished for the next optimal point.\n",
            "Time taken: 1.9980\n",
            "Function value obtained: -0.7246\n",
            "Current minimum: -0.7246\n",
            "Iteration No: 13 started. Searching for the next optimal point.\n",
            "Iteration No: 13 ended. Search finished for the next optimal point.\n",
            "Time taken: 2.0337\n",
            "Function value obtained: -0.7197\n",
            "Current minimum: -0.7246\n",
            "Iteration No: 14 started. Searching for the next optimal point.\n",
            "Iteration No: 14 ended. Search finished for the next optimal point.\n",
            "Time taken: 2.4447\n",
            "Function value obtained: -0.7268\n",
            "Current minimum: -0.7268\n",
            "Iteration No: 15 started. Searching for the next optimal point.\n",
            "Iteration No: 15 ended. Search finished for the next optimal point.\n",
            "Time taken: 2.6596\n",
            "Function value obtained: -0.7191\n",
            "Current minimum: -0.7268\n",
            "{'max_depth': 15, 'n_estimators': 159, 'criterion': 'gini', 'max_features': 0.16392922025942358}\n"
          ]
        }
      ]
    },
    {
      "cell_type": "markdown",
      "source": [
        "#**Implementing Gradient Boosting Classifier :**"
      ],
      "metadata": {
        "id": "W33LTwoMbe_U"
      }
    },
    {
      "cell_type": "code",
      "source": [
        "#Implementing GB classifier on X1 dataframe, i.e. dataframe after removing the highly corelated attribute - 'TM'\n",
        "gb_clf = ensemble.GradientBoostingClassifier(n_estimators=100)\n",
        "gb_clf.fit(X1_train, y_train)\n",
        "gb_clf.score(X1_test, y_test)"
      ],
      "metadata": {
        "colab": {
          "base_uri": "https://localhost:8080/"
        },
        "id": "uvOPapI0cLgb",
        "outputId": "11eed503-4fb6-49ca-8680-8e8446385766"
      },
      "execution_count": null,
      "outputs": [
        {
          "output_type": "execute_result",
          "data": {
            "text/plain": [
              "0.73224043715847"
            ]
          },
          "metadata": {},
          "execution_count": 40
        }
      ]
    },
    {
      "cell_type": "code",
      "source": [
        "#Implementing GB classifier on X dataframe, i.e. original dataframe\n",
        "gb_clf = ensemble.GradientBoostingClassifier(n_estimators=100)\n",
        "gb_clf.fit(X_train, y_train)\n",
        "gb_clf.score(X_test, y_test)"
      ],
      "metadata": {
        "colab": {
          "base_uri": "https://localhost:8080/"
        },
        "id": "EYCAoR6ua5cz",
        "outputId": "1152e6ff-bb8b-44d1-ba74-acd6a02ac863"
      },
      "execution_count": null,
      "outputs": [
        {
          "output_type": "execute_result",
          "data": {
            "text/plain": [
              "0.76775956284153"
            ]
          },
          "metadata": {},
          "execution_count": 41
        }
      ]
    },
    {
      "cell_type": "markdown",
      "source": [
        "#**Implementing XGBoost :**"
      ],
      "metadata": {
        "id": "n-SBzakAcarL"
      }
    },
    {
      "cell_type": "code",
      "source": [
        "import xgboost\n",
        "from sklearn.model_selection import GridSearchCV\n",
        "from sklearn.metrics import roc_auc_score\n",
        "from xgboost import XGBClassifier\n",
        "\n",
        "\n",
        "\n"
      ],
      "metadata": {
        "id": "8A4aDvINbclh"
      },
      "execution_count": null,
      "outputs": []
    },
    {
      "cell_type": "code",
      "source": [
        "XGBClassifier().get_params()"
      ],
      "metadata": {
        "colab": {
          "base_uri": "https://localhost:8080/"
        },
        "id": "iTLEApcbe_mJ",
        "outputId": "dabcef40-5aba-40d7-8dfe-a1b9e3b1cc9d"
      },
      "execution_count": null,
      "outputs": [
        {
          "output_type": "execute_result",
          "data": {
            "text/plain": [
              "{'base_score': 0.5,\n",
              " 'booster': 'gbtree',\n",
              " 'colsample_bylevel': 1,\n",
              " 'colsample_bynode': 1,\n",
              " 'colsample_bytree': 1,\n",
              " 'gamma': 0,\n",
              " 'learning_rate': 0.1,\n",
              " 'max_delta_step': 0,\n",
              " 'max_depth': 3,\n",
              " 'min_child_weight': 1,\n",
              " 'missing': None,\n",
              " 'n_estimators': 100,\n",
              " 'n_jobs': 1,\n",
              " 'nthread': None,\n",
              " 'objective': 'binary:logistic',\n",
              " 'random_state': 0,\n",
              " 'reg_alpha': 0,\n",
              " 'reg_lambda': 1,\n",
              " 'scale_pos_weight': 1,\n",
              " 'seed': None,\n",
              " 'silent': None,\n",
              " 'subsample': 1,\n",
              " 'verbosity': 1}"
            ]
          },
          "metadata": {},
          "execution_count": 46
        }
      ]
    },
    {
      "cell_type": "code",
      "source": [
        "#Implementing XGBoost classifier on PCA dataframe\n",
        "model_xgboost = xgboost.XGBClassifier(base_score=0.5,\n",
        "                                      booster='gbtree',\n",
        "                                      colsample_bylevel=1,\n",
        "                                      colsample_bynode=1,\n",
        "                                      colsample_bytree=1,\n",
        "                                      learning_rate=0.1,\n",
        "                                      max_depth=3,\n",
        "                                      min_child_weight=1,\n",
        "                                      n_estimators=100,\n",
        "                                      n_jobs=1,\n",
        "                                      reg_lambda=1,\n",
        "                                      scale_pos_weight=1,\n",
        "                                      subsample=1,\n",
        "                                      eval_metric='auc',\n",
        "                                      verbosity=1)\n",
        "eval_set =[(X_test_pca, y_test)]\n",
        "model_xgboost.fit(X_train_pca,\n",
        "                  y_train,\n",
        "                  early_stopping_rounds=10,\n",
        "                  eval_set=eval_set,\n",
        "                  verbose=True)"
      ],
      "metadata": {
        "id": "GJWP6GYe_jti",
        "colab": {
          "base_uri": "https://localhost:8080/"
        },
        "outputId": "9f23bcd7-b397-4c23-bbf8-2aae99e917bd"
      },
      "execution_count": null,
      "outputs": [
        {
          "output_type": "stream",
          "name": "stdout",
          "text": [
            "[0]\tvalidation_0-auc:0.598966\n",
            "Will train until validation_0-auc hasn't improved in 10 rounds.\n",
            "[1]\tvalidation_0-auc:0.629554\n",
            "[2]\tvalidation_0-auc:0.629064\n",
            "[3]\tvalidation_0-auc:0.635051\n",
            "[4]\tvalidation_0-auc:0.635522\n",
            "[5]\tvalidation_0-auc:0.639332\n",
            "[6]\tvalidation_0-auc:0.639405\n",
            "[7]\tvalidation_0-auc:0.63643\n",
            "[8]\tvalidation_0-auc:0.639605\n",
            "[9]\tvalidation_0-auc:0.639568\n",
            "[10]\tvalidation_0-auc:0.639423\n",
            "[11]\tvalidation_0-auc:0.639568\n",
            "[12]\tvalidation_0-auc:0.639731\n",
            "[13]\tvalidation_0-auc:0.641763\n",
            "[14]\tvalidation_0-auc:0.641509\n",
            "[15]\tvalidation_0-auc:0.64111\n",
            "[16]\tvalidation_0-auc:0.641201\n",
            "[17]\tvalidation_0-auc:0.641709\n",
            "[18]\tvalidation_0-auc:0.64189\n",
            "[19]\tvalidation_0-auc:0.64639\n",
            "[20]\tvalidation_0-auc:0.646335\n",
            "[21]\tvalidation_0-auc:0.644811\n",
            "[22]\tvalidation_0-auc:0.644739\n",
            "[23]\tvalidation_0-auc:0.650544\n",
            "[24]\tvalidation_0-auc:0.644485\n",
            "[25]\tvalidation_0-auc:0.643922\n",
            "[26]\tvalidation_0-auc:0.660051\n",
            "[27]\tvalidation_0-auc:0.659742\n",
            "[28]\tvalidation_0-auc:0.659561\n",
            "[29]\tvalidation_0-auc:0.659452\n",
            "[30]\tvalidation_0-auc:0.660287\n",
            "[31]\tvalidation_0-auc:0.654009\n",
            "[32]\tvalidation_0-auc:0.654336\n",
            "[33]\tvalidation_0-auc:0.652812\n",
            "[34]\tvalidation_0-auc:0.652449\n",
            "[35]\tvalidation_0-auc:0.65205\n",
            "[36]\tvalidation_0-auc:0.651832\n",
            "[37]\tvalidation_0-auc:0.651832\n",
            "[38]\tvalidation_0-auc:0.654699\n",
            "[39]\tvalidation_0-auc:0.654445\n",
            "[40]\tvalidation_0-auc:0.654263\n",
            "Stopping. Best iteration:\n",
            "[30]\tvalidation_0-auc:0.660287\n",
            "\n"
          ]
        },
        {
          "output_type": "execute_result",
          "data": {
            "text/plain": [
              "XGBClassifier(eval_metric='auc')"
            ]
          },
          "metadata": {},
          "execution_count": 47
        }
      ]
    },
    {
      "cell_type": "code",
      "source": [
        "#Evaluating model performance on PCA dataframe\n",
        "y_train_pred=model_xgboost.predict_proba(X_train_pca)[:,1]\n",
        "y_test_pred=model_xgboost.predict_proba(X_test_pca)[:,1]\n",
        "print(\"AUC Train: {:.4f}\\nAUC Valid: {:.4f}\".format(roc_auc_score(y_train, y_train_pred),\n",
        "                                                    roc_auc_score(y_test, y_test_pred)))"
      ],
      "metadata": {
        "colab": {
          "base_uri": "https://localhost:8080/"
        },
        "id": "CIL_rHxsXIWs",
        "outputId": "cb21f5a5-d5f2-4257-c079-689fdbcb6b74"
      },
      "execution_count": null,
      "outputs": [
        {
          "output_type": "stream",
          "name": "stdout",
          "text": [
            "AUC Train: 0.7099\n",
            "AUC Valid: 0.6603\n"
          ]
        }
      ]
    },
    {
      "cell_type": "markdown",
      "source": [
        "#**Best Result from XGBoost :**"
      ],
      "metadata": {
        "id": "vwZWzIsYpeum"
      }
    },
    {
      "cell_type": "code",
      "source": [
        "#Implementing XGboost on X dataframe, i.e. original dataframe \n",
        "model_xgboost = xgboost.XGBClassifier(base_score=0.5,\n",
        "                                      booster='gbtree',\n",
        "                                      colsample_bylevel=1,\n",
        "                                      colsample_bynode=1,\n",
        "                                      colsample_bytree=1,\n",
        "                                      learning_rate=0.1,\n",
        "                                      max_depth=3,\n",
        "                                      min_child_weight=1,\n",
        "                                      n_estimators=100,\n",
        "                                      n_jobs=1,\n",
        "                                      reg_lambda=1,\n",
        "                                      scale_pos_weight=1,\n",
        "                                      subsample=1,\n",
        "                                      eval_metric='auc',\n",
        "                                      verbosity=1)\n",
        "eval_set =[(X_test, y_test)]\n",
        "model_xgboost.fit(X_train,\n",
        "                  y_train,\n",
        "                  early_stopping_rounds=10,\n",
        "                  eval_set=eval_set,\n",
        "                  verbose=True)"
      ],
      "metadata": {
        "colab": {
          "base_uri": "https://localhost:8080/"
        },
        "id": "JbI78bmNbBGu",
        "outputId": "3bc0e4e4-a8cb-4fe6-cea5-0ea7e3d7873e"
      },
      "execution_count": null,
      "outputs": [
        {
          "output_type": "stream",
          "name": "stdout",
          "text": [
            "[0]\tvalidation_0-auc:0.684634\n",
            "Will train until validation_0-auc hasn't improved in 10 rounds.\n",
            "[1]\tvalidation_0-auc:0.708073\n",
            "[2]\tvalidation_0-auc:0.755134\n",
            "[3]\tvalidation_0-auc:0.753901\n",
            "[4]\tvalidation_0-auc:0.791255\n",
            "[5]\tvalidation_0-auc:0.782384\n",
            "[6]\tvalidation_0-auc:0.780624\n",
            "[7]\tvalidation_0-auc:0.771517\n",
            "[8]\tvalidation_0-auc:0.777939\n",
            "[9]\tvalidation_0-auc:0.780461\n",
            "[10]\tvalidation_0-auc:0.792707\n",
            "[11]\tvalidation_0-auc:0.796499\n",
            "[12]\tvalidation_0-auc:0.803157\n",
            "[13]\tvalidation_0-auc:0.80352\n",
            "[14]\tvalidation_0-auc:0.804808\n",
            "[15]\tvalidation_0-auc:0.803901\n",
            "[16]\tvalidation_0-auc:0.809071\n",
            "[17]\tvalidation_0-auc:0.806912\n",
            "[18]\tvalidation_0-auc:0.808908\n",
            "[19]\tvalidation_0-auc:0.811865\n",
            "[20]\tvalidation_0-auc:0.812954\n",
            "[21]\tvalidation_0-auc:0.8127\n",
            "[22]\tvalidation_0-auc:0.81221\n",
            "[23]\tvalidation_0-auc:0.814478\n",
            "[24]\tvalidation_0-auc:0.812935\n",
            "[25]\tvalidation_0-auc:0.812119\n",
            "[26]\tvalidation_0-auc:0.813679\n",
            "[27]\tvalidation_0-auc:0.814006\n",
            "[28]\tvalidation_0-auc:0.812446\n",
            "[29]\tvalidation_0-auc:0.810414\n",
            "[30]\tvalidation_0-auc:0.810541\n",
            "[31]\tvalidation_0-auc:0.811176\n",
            "[32]\tvalidation_0-auc:0.810994\n",
            "[33]\tvalidation_0-auc:0.812137\n",
            "Stopping. Best iteration:\n",
            "[23]\tvalidation_0-auc:0.814478\n",
            "\n"
          ]
        },
        {
          "output_type": "execute_result",
          "data": {
            "text/plain": [
              "XGBClassifier(eval_metric='auc')"
            ]
          },
          "metadata": {},
          "execution_count": 49
        }
      ]
    },
    {
      "cell_type": "code",
      "source": [
        "#Evaluating model performance for dataframe 'X'\n",
        "y_train_pred=model_xgboost.predict_proba(X_train)[:,1]\n",
        "y_test_pred=model_xgboost.predict_proba(X_test)[:,1]\n",
        "print(\"AUC Train: {:.4f}\\nAUC Valid: {:.4f}\".format(roc_auc_score(y_train, y_train_pred),\n",
        "                                                    roc_auc_score(y_test, y_test_pred)))"
      ],
      "metadata": {
        "colab": {
          "base_uri": "https://localhost:8080/"
        },
        "id": "uN3gGd9PbJtT",
        "outputId": "73da774b-0d30-4e0f-dd5e-96675f75157a"
      },
      "execution_count": null,
      "outputs": [
        {
          "output_type": "stream",
          "name": "stdout",
          "text": [
            "AUC Train: 0.8510\n",
            "AUC Valid: 0.8145\n"
          ]
        }
      ]
    },
    {
      "cell_type": "markdown",
      "source": [
        "#**Implementing Multi Layer Perceptron :**"
      ],
      "metadata": {
        "id": "Ea3T75zCUHjt"
      }
    },
    {
      "cell_type": "code",
      "source": [
        "#Splitting dataset into 80-20 train-test\n",
        "X_train, X_test, y_train, y_test = train_test_split(X,y, test_size=0.2, random_state=42)\n",
        "\n",
        "\n",
        "#Training MLP\n",
        "from sklearn.neural_network import MLPClassifier\n",
        "mlp = MLPClassifier(hidden_layer_sizes = (6,4,1), max_iter=500, activation='relu')\n",
        "mlp\n",
        "mlp.fit(X_train,y_train)\n",
        "pred = mlp.predict(X_test)\n",
        "#pred"
      ],
      "metadata": {
        "id": "VQb2hMR5Tkhk"
      },
      "execution_count": null,
      "outputs": []
    },
    {
      "cell_type": "code",
      "source": [
        "#Printing the confusion_matrix\n",
        "from sklearn.metrics import classification_report, confusion_matrix\n",
        "confusion_matrix(y_test, pred)"
      ],
      "metadata": {
        "colab": {
          "base_uri": "https://localhost:8080/"
        },
        "id": "0hoXWtgkW-pt",
        "outputId": "a235e452-99df-4f10-a79b-b35d016d05f1"
      },
      "execution_count": null,
      "outputs": [
        {
          "output_type": "execute_result",
          "data": {
            "text/plain": [
              "array([[260,   0],\n",
              "       [106,   0]])"
            ]
          },
          "metadata": {},
          "execution_count": 109
        }
      ]
    },
    {
      "cell_type": "code",
      "source": [
        "#Printing classification_report for MLP\n",
        "print(classification_report(y_test, pred))"
      ],
      "metadata": {
        "colab": {
          "base_uri": "https://localhost:8080/"
        },
        "id": "V9QmaTnrUmVK",
        "outputId": "d05c1d17-1b78-4e5d-ee61-5c74b52e3417"
      },
      "execution_count": null,
      "outputs": [
        {
          "output_type": "stream",
          "name": "stdout",
          "text": [
            "              precision    recall  f1-score   support\n",
            "\n",
            "         0.0       0.71      1.00      0.83       260\n",
            "         1.0       0.00      0.00      0.00       106\n",
            "\n",
            "    accuracy                           0.71       366\n",
            "   macro avg       0.36      0.50      0.42       366\n",
            "weighted avg       0.50      0.71      0.59       366\n",
            "\n"
          ]
        }
      ]
    }
  ]
}